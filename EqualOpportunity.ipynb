{
 "cells": [
  {
   "cell_type": "code",
   "execution_count": 158,
   "id": "7053f0bd-38d8-4d16-a346-1dfaf4872866",
   "metadata": {},
   "outputs": [],
   "source": [
    "import pandas as pd\n",
    "import matplotlib.pyplot as plt\n",
    "import numpy as np\n",
    "from fairlib.src.dataloaders import BT\n",
    "import seaborn as sns\n",
    "import pandas as pd\n",
    "sns.set_theme(style=\"whitegrid\")\n"
   ]
  },
  {
   "cell_type": "code",
   "execution_count": 214,
   "id": "fa1d39e7-d7be-4834-afef-7f8e0241f64d",
   "metadata": {},
   "outputs": [],
   "source": [
    "y=[ 1, 1, 1, 1 , 0, 0, 0, 0]\n",
    "p=[1 , 0 , 0 ,0 ,1,1,0,0]"
   ]
  },
  {
   "cell_type": "code",
   "execution_count": null,
   "id": "e5945fc5-f3b7-4e32-b708-7f3eb9b44d56",
   "metadata": {},
   "outputs": [],
   "source": []
  },
  {
   "cell_type": "code",
   "execution_count": 12,
   "id": "d9aeb2ec-54e4-4993-9a5f-72940962a8a0",
   "metadata": {},
   "outputs": [
    {
     "data": {
      "text/plain": [
       "array([4.        , 2.33333333, 2.33333333, 2.33333333, 2.        ,\n",
       "       2.        , 2.        , 2.        ])"
      ]
     },
     "execution_count": 12,
     "metadata": {},
     "output_type": "execute_result"
    }
   ],
   "source": [
    "BT.get_weights(\"EO\", y, p)"
   ]
  },
  {
   "cell_type": "code",
   "execution_count": 24,
   "id": "e121d0e7-4e61-41b2-949a-31afcef34fe5",
   "metadata": {},
   "outputs": [],
   "source": [
    "yn = []\n",
    "pn = []\n",
    "for x in y :\n",
    "    yn.append((x+1)%2)\n",
    "for x in p :\n",
    "    pn.append((x+1)%2)"
   ]
  },
  {
   "cell_type": "code",
   "execution_count": 25,
   "id": "b106234f-fbd4-4d60-810c-ccc258db063a",
   "metadata": {},
   "outputs": [
    {
     "data": {
      "text/plain": [
       "array([4.        , 2.33333333, 2.33333333, 2.33333333, 2.        ,\n",
       "       2.        , 2.        , 2.        ])"
      ]
     },
     "execution_count": 25,
     "metadata": {},
     "output_type": "execute_result"
    }
   ],
   "source": [
    "BT.get_weights(\"EO\", yn, pn)"
   ]
  },
  {
   "cell_type": "code",
   "execution_count": 50,
   "id": "e94cf936-d207-44cd-93d9-210ece2da18c",
   "metadata": {},
   "outputs": [],
   "source": [
    "y= 32*[0] + 8 * [0] + 24 * [1] + 36 * [1]\n",
    "p=32*[0] +  8 * [1] + 24 * [0] + 36 * [1]\n",
    "a=BT.get_weights(\"EO\", y, p)"
   ]
  },
  {
   "cell_type": "code",
   "execution_count": 30,
   "id": "89b11b40-7d34-4cec-a5f4-71cfc8f141ec",
   "metadata": {},
   "outputs": [
    {
     "data": {
      "text/plain": [
       "5.97525"
      ]
     },
     "execution_count": 30,
     "metadata": {},
     "output_type": "execute_result"
    }
   ],
   "source": [
    "1.25+1.15625+2.5+1.069"
   ]
  },
  {
   "cell_type": "code",
   "execution_count": 43,
   "id": "ea574662-a286-464b-9718-1e61ed19fc54",
   "metadata": {},
   "outputs": [
    {
     "data": {
      "text/plain": [
       "38.41229193341869"
      ]
     },
     "execution_count": 43,
     "metadata": {},
     "output_type": "execute_result"
    }
   ],
   "source": [
    "32*1.25/1.562\n",
    "8*1.15625/1.562\n",
    "24*2.5/1.562"
   ]
  },
  {
   "cell_type": "code",
   "execution_count": 53,
   "id": "1982861b-2fe8-4191-b937-e11fbd65ff87",
   "metadata": {},
   "outputs": [
    {
     "data": {
      "text/plain": [
       "15.870378811203944"
      ]
     },
     "execution_count": 53,
     "metadata": {},
     "output_type": "execute_result"
    }
   ],
   "source": [
    "import numpy \n",
    "numpy.linalg.norm(a)"
   ]
  },
  {
   "cell_type": "code",
   "execution_count": 215,
   "id": "49c11382-a28a-4f03-a3fc-8db939d90a96",
   "metadata": {},
   "outputs": [
    {
     "name": "stdout",
     "output_type": "stream",
     "text": [
      "get_sampled_indices EO [1, 1, 1, 1, 0, 0, 0, 0] pl: [1, 0, 0, 0, 1, 1, 0, 0] method: Downsampling total 8\n",
      "{0, 1} {0, 1}\n"
     ]
    }
   ],
   "source": [
    "yr=[]\n",
    "pr=[]\n",
    "ind = BT.get_sampled_indices(\"EO\", y, p, \"Downsampling\")\n",
    "d={'0-0':0, '0-1':0 ,'1-0':0, '1-1':0}\n",
    "for i in ind:\n",
    "    \n",
    "     now=\"-\".join([str(y[i]), str(p[i])])\n",
    "     d[now]+=1\n",
    "     yr.append(str(y[i]))\n",
    "     pr.append(str(p[i]))\n",
    "dfds = pd.DataFrame({'Target' : yr, 'Protected' : pr})"
   ]
  },
  {
   "cell_type": "code",
   "execution_count": 127,
   "id": "53d563ab-f3b2-491a-b9ac-6f396de0eb48",
   "metadata": {},
   "outputs": [
    {
     "name": "stdout",
     "output_type": "stream",
     "text": [
      "get_sampled_indices EO [0, 0, 0, 0, 0, 0, 0, 0, 0, 0, 0, 0, 0, 0, 0, 0, 0, 0, 0, 0, 0, 0, 0, 0, 0, 0, 0, 0, 0, 0, 0, 0, 0, 0, 0, 0, 0, 0, 0, 0, 1, 1, 1, 1, 1, 1, 1, 1, 1, 1, 1, 1, 1, 1, 1, 1, 1, 1, 1, 1, 1, 1, 1, 1, 1, 1, 1, 1, 1, 1, 1, 1, 1, 1, 1, 1, 1, 1, 1, 1, 1, 1, 1, 1, 1, 1, 1, 1, 1, 1, 1, 1, 1, 1, 1, 1, 1, 1, 1, 1] pl: [0, 0, 0, 0, 0, 0, 0, 0, 0, 0, 0, 0, 0, 0, 0, 0, 0, 0, 0, 0, 0, 0, 0, 0, 0, 0, 0, 0, 0, 0, 0, 0, 1, 1, 1, 1, 1, 1, 1, 1, 0, 0, 0, 0, 0, 0, 0, 0, 0, 0, 0, 0, 0, 0, 0, 0, 0, 0, 0, 0, 0, 0, 0, 0, 1, 1, 1, 1, 1, 1, 1, 1, 1, 1, 1, 1, 1, 1, 1, 1, 1, 1, 1, 1, 1, 1, 1, 1, 1, 1, 1, 1, 1, 1, 1, 1, 1, 1, 1, 1] method: Resampling total 100\n",
      "{0, 1} {0, 1}\n",
      "here5\n",
      "[[0, 1, 2, 3, 4, 5, 6, 7, 8, 9, 10, 11, 12, 13, 14, 15, 16, 17, 18, 19, 20, 21, 22, 23, 24, 25, 26, 27, 28, 29, 30, 31], [32, 33, 34, 35, 36, 37, 38, 39]]\n",
      "here6\n",
      "here5\n",
      "[[40, 41, 42, 43, 44, 45, 46, 47, 48, 49, 50, 51, 52, 53, 54, 55, 56, 57, 58, 59, 60, 61, 62, 63], [64, 65, 66, 67, 68, 69, 70, 71, 72, 73, 74, 75, 76, 77, 78, 79, 80, 81, 82, 83, 84, 85, 86, 87, 88, 89, 90, 91, 92, 93, 94, 95, 96, 97, 98, 99]]\n",
      "here6\n"
     ]
    }
   ],
   "source": [
    "yr=[]\n",
    "pr=[]\n",
    "ind = BT.get_sampled_indices(\"EO\", y, p, \"Resampling\")\n",
    "d={'0-0':0, '0-1':0 ,'1-0':0, '1-1':0}\n",
    "for i in ind:\n",
    "    \n",
    "     now=\"-\".join([str(y[i]), str(p[i])])\n",
    "     d[now]+=1\n",
    "     yr.append(str(y[i]))\n",
    "     pr.append(str(p[i]))\n",
    "dfrs = pd.DataFrame({'Target' : yr, 'Protected' : pr})"
   ]
  },
  {
   "cell_type": "code",
   "execution_count": 128,
   "id": "4618ef80-ee7d-441b-abed-0ccc6e9e4ba2",
   "metadata": {},
   "outputs": [],
   "source": [
    "#plt.stack ( x='Target' )\n",
    "dfo = pd.DataFrame({'Target' : y, 'Protected' : p})\n",
    "dfo.Target=dfo.Target.astype(\"category\")\n",
    "dfo.Protected=dfo.Protected.astype(\"string\")\n"
   ]
  },
  {
   "cell_type": "code",
   "execution_count": 131,
   "id": "ea645007-2ff0-4262-a5cd-2666e0a0a793",
   "metadata": {},
   "outputs": [
    {
     "data": {
      "text/html": [
       "<div>\n",
       "<style scoped>\n",
       "    .dataframe tbody tr th:only-of-type {\n",
       "        vertical-align: middle;\n",
       "    }\n",
       "\n",
       "    .dataframe tbody tr th {\n",
       "        vertical-align: top;\n",
       "    }\n",
       "\n",
       "    .dataframe thead th {\n",
       "        text-align: right;\n",
       "    }\n",
       "</style>\n",
       "<table border=\"1\" class=\"dataframe\">\n",
       "  <thead>\n",
       "    <tr style=\"text-align: right;\">\n",
       "      <th></th>\n",
       "      <th>Target</th>\n",
       "      <th>Protected</th>\n",
       "    </tr>\n",
       "  </thead>\n",
       "  <tbody>\n",
       "    <tr>\n",
       "      <th>0</th>\n",
       "      <td>0</td>\n",
       "      <td>0</td>\n",
       "    </tr>\n",
       "    <tr>\n",
       "      <th>1</th>\n",
       "      <td>0</td>\n",
       "      <td>0</td>\n",
       "    </tr>\n",
       "    <tr>\n",
       "      <th>2</th>\n",
       "      <td>0</td>\n",
       "      <td>0</td>\n",
       "    </tr>\n",
       "    <tr>\n",
       "      <th>3</th>\n",
       "      <td>0</td>\n",
       "      <td>0</td>\n",
       "    </tr>\n",
       "    <tr>\n",
       "      <th>4</th>\n",
       "      <td>0</td>\n",
       "      <td>0</td>\n",
       "    </tr>\n",
       "    <tr>\n",
       "      <th>...</th>\n",
       "      <td>...</td>\n",
       "      <td>...</td>\n",
       "    </tr>\n",
       "    <tr>\n",
       "      <th>95</th>\n",
       "      <td>1</td>\n",
       "      <td>1</td>\n",
       "    </tr>\n",
       "    <tr>\n",
       "      <th>96</th>\n",
       "      <td>1</td>\n",
       "      <td>1</td>\n",
       "    </tr>\n",
       "    <tr>\n",
       "      <th>97</th>\n",
       "      <td>1</td>\n",
       "      <td>1</td>\n",
       "    </tr>\n",
       "    <tr>\n",
       "      <th>98</th>\n",
       "      <td>1</td>\n",
       "      <td>1</td>\n",
       "    </tr>\n",
       "    <tr>\n",
       "      <th>99</th>\n",
       "      <td>1</td>\n",
       "      <td>1</td>\n",
       "    </tr>\n",
       "  </tbody>\n",
       "</table>\n",
       "<p>100 rows × 2 columns</p>\n",
       "</div>"
      ],
      "text/plain": [
       "   Target Protected\n",
       "0       0         0\n",
       "1       0         0\n",
       "2       0         0\n",
       "3       0         0\n",
       "4       0         0\n",
       "..    ...       ...\n",
       "95      1         1\n",
       "96      1         1\n",
       "97      1         1\n",
       "98      1         1\n",
       "99      1         1\n",
       "\n",
       "[100 rows x 2 columns]"
      ]
     },
     "execution_count": 131,
     "metadata": {},
     "output_type": "execute_result"
    }
   ],
   "source": [
    "dfo"
   ]
  },
  {
   "cell_type": "code",
   "execution_count": 220,
   "id": "b38aed74-4245-45e5-bb5c-d14267763ab0",
   "metadata": {},
   "outputs": [
    {
     "data": {
      "image/png": "[encoded data removed]",
      "text/plain": [
       "<Figure size 640x480 with 2 Axes>"
      ]
     },
     "metadata": {},
     "output_type": "display_data"
    }
   ],
   "source": [
    "from seaborn import objects as so\n",
    "so.Plot.config.theme.update({\"style\": \"whitegrid\"})\n",
    "f, (ax1, ax2) = plt.subplots(1,2)\n",
    "#f.set(xlabel='Frequency')\n",
    "ax1.set_ylabel(\"Value\", fontsize=14)\n",
    "p = so.Plot(dfo, x=\"Target\", color=\"Protected\").add(so.Bar(), so.Count(), so.Stack()).label(title=\"Original\", y=\"Count\").on(ax1).plot()\n",
    "p = so.Plot(dfrs, x=\"Target\", color=\"Protected\").add(so.Bar(), so.Count(), so.Stack()).label(title=\"Resampling\").on(ax2).plot()\n",
    "#p = so.Plot(dfds, x=\"Target\", color=\"Protected\").add(so.Bar(), so.Count(), so.Stack()).label(title=\"Downsampling\").on(ax3).plot()\n",
    "ax1.legend(legend.legend_handles, [t.get_text() for t in legend.texts], title=\"Protected\")\n",
    "ax2.legend(legend.legend_handles, [t.get_text() for t in legend.texts], title=\"Protected\")\n",
    "#ax3.legend(legend.legend_handles, [t.get_text() for t in legend.texts], title=\"Protected\")\n",
    "#sns.move_legend(f, \"upper left\")\n",
    "#p.theme({\"style\": \"whitegrid\"})\n",
    "#plt.legend()\n",
    "#display(p)\n",
    "#p.Save(\"/home/user/fairlibcode/plots/bteo.png\")\n",
    "#ax = plt.gca()\n",
    "#ax.set_title(\"Original\")\n",
    "#p.save(f\"/home/user/fairlibcode/plots/bteo_original.png\".replace(' ','_').lower() )\n",
    "#legend = f.legends.pop(0)\n",
    "#ax1.legend\n",
    "#print(legend.parent)\n",
    "#legend.draw(f.canvas.get_renderer())\n",
    "#display(p)\n",
    "\n",
    "#sns.move_legend(f, \"upper left\", bbox_to_anchor=(1, 1))\n",
    "\n",
    "#ax1.legend(legend.legend_handles, [t.get_text() for t in legend.texts])\n",
    "\n",
    "#so.Plot(dfrs, x=\"Target\", color=\"Protected\").add(so.Bar(), so.Count(), so.Stack()).label(title=\"Resampling\")\n",
    "plt.savefig(f\"/home/user/fairlibcode/plots/bteo.png\".replace(' ','_').lower() )\n",
    "\n",
    "plt.show()\n"
   ]
  },
  {
   "cell_type": "code",
   "execution_count": null,
   "id": "c1b952f2-f81c-4ff1-888e-f558cee190d4",
   "metadata": {},
   "outputs": [],
   "source": []
  }
 ],
 "metadata": {
  "kernelspec": {
   "display_name": "pristine",
   "language": "python",
   "name": "pistine"
  },
  "language_info": {
   "codemirror_mode": {
    "name": "ipython",
    "version": 3
   },
   "file_extension": ".py",
   "mimetype": "text/x-python",
   "name": "python",
   "nbconvert_exporter": "python",
   "pygments_lexer": "ipython3",
   "version": "3.8.18"
  }
 },
 "nbformat": 4,
 "nbformat_minor": 5
}
