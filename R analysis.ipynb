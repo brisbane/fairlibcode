{
 "cells": [
  {
   "cell_type": "code",
   "execution_count": 28,
   "id": "a66cf842-db9c-4acf-8a70-1938817cf375",
   "metadata": {},
   "outputs": [
    {
     "data": {
      "text/html": [
       "<table>\n",
       "<thead><tr><th scope=col>id</th><th scope=col>t1</th><th scope=col>t2</th><th scope=col>t3</th></tr></thead>\n",
       "<tbody>\n",
       "\t<tr><td>1       </td><td>4.005027</td><td>5.182286</td><td>7.107831</td></tr>\n",
       "\t<tr><td>2       </td><td>2.558124</td><td>6.912915</td><td>6.308434</td></tr>\n",
       "\t<tr><td>3       </td><td>3.244241</td><td>4.443434</td><td>9.778410</td></tr>\n",
       "</tbody>\n",
       "</table>\n"
      ],
      "text/latex": [
       "\\begin{tabular}{r|llll}\n",
       " id & t1 & t2 & t3\\\\\n",
       "\\hline\n",
       "\t 1        & 4.005027 & 5.182286 & 7.107831\\\\\n",
       "\t 2        & 2.558124 & 6.912915 & 6.308434\\\\\n",
       "\t 3        & 3.244241 & 4.443434 & 9.778410\\\\\n",
       "\\end{tabular}\n"
      ],
      "text/markdown": [
       "\n",
       "| id | t1 | t2 | t3 |\n",
       "|---|---|---|---|\n",
       "| 1        | 4.005027 | 5.182286 | 7.107831 |\n",
       "| 2        | 2.558124 | 6.912915 | 6.308434 |\n",
       "| 3        | 3.244241 | 4.443434 | 9.778410 |\n",
       "\n"
      ],
      "text/plain": [
       "  id t1       t2       t3      \n",
       "1 1  4.005027 5.182286 7.107831\n",
       "2 2  2.558124 6.912915 6.308434\n",
       "3 3  3.244241 4.443434 9.778410"
      ]
     },
     "metadata": {},
     "output_type": "display_data"
    }
   ],
   "source": [
    "library(tidyverse)\n",
    "library(ggpubr)\n",
    "library(rstatix)\n",
    "\n",
    "data(\"selfesteem\", package = \"datarium\")\n",
    "head(selfesteem, 3)\n",
    "baseline=c( 0.152 , 0.461 , 0.256 , 0.164, 0.34 )\n",
    "BT = c(  0.160 , 0.435,   0.222,  0.141,  0.42 )\n",
    "ADV = c(  0.149, 0.432,  0.226, 0.133, 0.384 )\n",
    "INLP = c( 0.154 ,  0.456, 0.247,  0.172,   0.414)\n",
    "ID=c(1,2,3,4,5)\n",
    "\n",
    "\n",
    "baseline<-c(baseline, 0.477)\n",
    "BT<-c(BT, 0.275)\n",
    "ADV<-c(ADV, 0.263)\n",
    "INLP<-c(INLP,30.3)\n",
    "ID<-c(ID,6)"
   ]
  },
  {
   "cell_type": "code",
   "execution_count": 29,
   "id": "8eb4b7f8-82a4-4970-b314-45959c901d86",
   "metadata": {},
   "outputs": [
    {
     "data": {
      "text/html": [
       "<table>\n",
       "<thead><tr><th scope=col>ID</th><th scope=col>baseline</th><th scope=col>BT</th><th scope=col>ADV</th><th scope=col>INLP</th></tr></thead>\n",
       "<tbody>\n",
       "\t<tr><td>1     </td><td>0.152 </td><td>0.160 </td><td>0.149 </td><td> 0.154</td></tr>\n",
       "\t<tr><td>2     </td><td>0.461 </td><td>0.435 </td><td>0.432 </td><td> 0.456</td></tr>\n",
       "\t<tr><td>3     </td><td>0.256 </td><td>0.222 </td><td>0.226 </td><td> 0.247</td></tr>\n",
       "\t<tr><td>4     </td><td>0.164 </td><td>0.141 </td><td>0.133 </td><td> 0.172</td></tr>\n",
       "\t<tr><td>5     </td><td>0.340 </td><td>0.420 </td><td>0.384 </td><td> 0.414</td></tr>\n",
       "\t<tr><td>6     </td><td>0.477 </td><td>0.275 </td><td>0.263 </td><td>30.300</td></tr>\n",
       "</tbody>\n",
       "</table>\n"
      ],
      "text/latex": [
       "\\begin{tabular}{r|lllll}\n",
       " ID & baseline & BT & ADV & INLP\\\\\n",
       "\\hline\n",
       "\t 1      & 0.152  & 0.160  & 0.149  &  0.154\\\\\n",
       "\t 2      & 0.461  & 0.435  & 0.432  &  0.456\\\\\n",
       "\t 3      & 0.256  & 0.222  & 0.226  &  0.247\\\\\n",
       "\t 4      & 0.164  & 0.141  & 0.133  &  0.172\\\\\n",
       "\t 5      & 0.340  & 0.420  & 0.384  &  0.414\\\\\n",
       "\t 6      & 0.477  & 0.275  & 0.263  & 30.300\\\\\n",
       "\\end{tabular}\n"
      ],
      "text/markdown": [
       "\n",
       "| ID | baseline | BT | ADV | INLP |\n",
       "|---|---|---|---|---|\n",
       "| 1      | 0.152  | 0.160  | 0.149  |  0.154 |\n",
       "| 2      | 0.461  | 0.435  | 0.432  |  0.456 |\n",
       "| 3      | 0.256  | 0.222  | 0.226  |  0.247 |\n",
       "| 4      | 0.164  | 0.141  | 0.133  |  0.172 |\n",
       "| 5      | 0.340  | 0.420  | 0.384  |  0.414 |\n",
       "| 6      | 0.477  | 0.275  | 0.263  | 30.300 |\n",
       "\n"
      ],
      "text/plain": [
       "  ID baseline BT    ADV   INLP  \n",
       "1 1  0.152    0.160 0.149  0.154\n",
       "2 2  0.461    0.435 0.432  0.456\n",
       "3 3  0.256    0.222 0.226  0.247\n",
       "4 4  0.164    0.141 0.133  0.172\n",
       "5 5  0.340    0.420 0.384  0.414\n",
       "6 6  0.477    0.275 0.263 30.300"
      ]
     },
     "metadata": {},
     "output_type": "display_data"
    }
   ],
   "source": [
    "debias<-data.frame(ID, baseline, BT, ADV, INLP)\n",
    "head(debias)"
   ]
  },
  {
   "cell_type": "code",
   "execution_count": 30,
   "id": "7683d81f-f693-436b-8af0-45ad969f3f41",
   "metadata": {},
   "outputs": [
    {
     "data": {
      "text/html": [
       "<table>\n",
       "<thead><tr><th scope=col>ID</th><th scope=col>technique</th><th scope=col>DTO</th></tr></thead>\n",
       "<tbody>\n",
       "\t<tr><td>1       </td><td>baseline</td><td>0.152   </td></tr>\n",
       "\t<tr><td>2       </td><td>baseline</td><td>0.461   </td></tr>\n",
       "\t<tr><td>3       </td><td>baseline</td><td>0.256   </td></tr>\n",
       "</tbody>\n",
       "</table>\n"
      ],
      "text/latex": [
       "\\begin{tabular}{r|lll}\n",
       " ID & technique & DTO\\\\\n",
       "\\hline\n",
       "\t 1        & baseline & 0.152   \\\\\n",
       "\t 2        & baseline & 0.461   \\\\\n",
       "\t 3        & baseline & 0.256   \\\\\n",
       "\\end{tabular}\n"
      ],
      "text/markdown": [
       "\n",
       "| ID | technique | DTO |\n",
       "|---|---|---|\n",
       "| 1        | baseline | 0.152    |\n",
       "| 2        | baseline | 0.461    |\n",
       "| 3        | baseline | 0.256    |\n",
       "\n"
      ],
      "text/plain": [
       "  ID technique DTO  \n",
       "1 1  baseline  0.152\n",
       "2 2  baseline  0.461\n",
       "3 3  baseline  0.256"
      ]
     },
     "metadata": {},
     "output_type": "display_data"
    },
    {
     "data": {
      "text/html": [
       "<table>\n",
       "<thead><tr><th scope=col>id</th><th scope=col>time</th><th scope=col>score</th></tr></thead>\n",
       "<tbody>\n",
       "\t<tr><td>1       </td><td>t1      </td><td>4.005027</td></tr>\n",
       "\t<tr><td>2       </td><td>t1      </td><td>2.558124</td></tr>\n",
       "\t<tr><td>3       </td><td>t1      </td><td>3.244241</td></tr>\n",
       "</tbody>\n",
       "</table>\n"
      ],
      "text/latex": [
       "\\begin{tabular}{r|lll}\n",
       " id & time & score\\\\\n",
       "\\hline\n",
       "\t 1        & t1       & 4.005027\\\\\n",
       "\t 2        & t1       & 2.558124\\\\\n",
       "\t 3        & t1       & 3.244241\\\\\n",
       "\\end{tabular}\n"
      ],
      "text/markdown": [
       "\n",
       "| id | time | score |\n",
       "|---|---|---|\n",
       "| 1        | t1       | 4.005027 |\n",
       "| 2        | t1       | 2.558124 |\n",
       "| 3        | t1       | 3.244241 |\n",
       "\n"
      ],
      "text/plain": [
       "  id time score   \n",
       "1 1  t1   4.005027\n",
       "2 2  t1   2.558124\n",
       "3 3  t1   3.244241"
      ]
     },
     "metadata": {},
     "output_type": "display_data"
    }
   ],
   "source": [
    "debias <- debias %>%\n",
    "  gather(key = \"technique\", value = \"DTO\", baseline,\tBT,\tADV,\tINLP) %>%\n",
    "  convert_as_factor(ID, technique)\n",
    "head(debias, 3)\n",
    "\n",
    "selfesteem <- selfesteem %>%\n",
    "  gather(key = \"time\", value = \"score\", t1, t2, t3) %>%\n",
    "  convert_as_factor(id, time)\n",
    "head(selfesteem, 3)"
   ]
  },
  {
   "cell_type": "code",
   "execution_count": 31,
   "id": "d3a60089-72ca-4567-9db7-f30250f373db",
   "metadata": {},
   "outputs": [
    {
     "data": {
      "text/html": [
       "<table>\n",
       "<thead><tr><th scope=col>technique</th><th scope=col>variable</th><th scope=col>n</th><th scope=col>min</th><th scope=col>max</th><th scope=col>median</th><th scope=col>iqr</th><th scope=col>mean</th><th scope=col>sd</th><th scope=col>se</th><th scope=col>ci</th></tr></thead>\n",
       "<tbody>\n",
       "\t<tr><td>ADV     </td><td>DTO     </td><td>6       </td><td>0.133   </td><td> 0.432  </td><td>0.244   </td><td>0.186   </td><td>0.264   </td><td> 0.122  </td><td>0.050   </td><td> 0.128  </td></tr>\n",
       "\t<tr><td>baseline</td><td>DTO     </td><td>6       </td><td>0.152   </td><td> 0.477  </td><td>0.298   </td><td>0.244   </td><td>0.308   </td><td> 0.142  </td><td>0.058   </td><td> 0.149  </td></tr>\n",
       "\t<tr><td>BT      </td><td>DTO     </td><td>6       </td><td>0.141   </td><td> 0.435  </td><td>0.248   </td><td>0.208   </td><td>0.276   </td><td> 0.127  </td><td>0.052   </td><td> 0.133  </td></tr>\n",
       "\t<tr><td>INLP    </td><td>DTO     </td><td>6       </td><td>0.154   </td><td>30.300  </td><td>0.330   </td><td>0.255   </td><td>5.290   </td><td>12.253  </td><td>5.002   </td><td>12.858  </td></tr>\n",
       "</tbody>\n",
       "</table>\n"
      ],
      "text/latex": [
       "\\begin{tabular}{r|lllllllllll}\n",
       " technique & variable & n & min & max & median & iqr & mean & sd & se & ci\\\\\n",
       "\\hline\n",
       "\t ADV      & DTO      & 6        & 0.133    &  0.432   & 0.244    & 0.186    & 0.264    &  0.122   & 0.050    &  0.128  \\\\\n",
       "\t baseline & DTO      & 6        & 0.152    &  0.477   & 0.298    & 0.244    & 0.308    &  0.142   & 0.058    &  0.149  \\\\\n",
       "\t BT       & DTO      & 6        & 0.141    &  0.435   & 0.248    & 0.208    & 0.276    &  0.127   & 0.052    &  0.133  \\\\\n",
       "\t INLP     & DTO      & 6        & 0.154    & 30.300   & 0.330    & 0.255    & 5.290    & 12.253   & 5.002    & 12.858  \\\\\n",
       "\\end{tabular}\n"
      ],
      "text/markdown": [
       "\n",
       "| technique | variable | n | min | max | median | iqr | mean | sd | se | ci |\n",
       "|---|---|---|---|---|---|---|---|---|---|---|\n",
       "| ADV      | DTO      | 6        | 0.133    |  0.432   | 0.244    | 0.186    | 0.264    |  0.122   | 0.050    |  0.128   |\n",
       "| baseline | DTO      | 6        | 0.152    |  0.477   | 0.298    | 0.244    | 0.308    |  0.142   | 0.058    |  0.149   |\n",
       "| BT       | DTO      | 6        | 0.141    |  0.435   | 0.248    | 0.208    | 0.276    |  0.127   | 0.052    |  0.133   |\n",
       "| INLP     | DTO      | 6        | 0.154    | 30.300   | 0.330    | 0.255    | 5.290    | 12.253   | 5.002    | 12.858   |\n",
       "\n"
      ],
      "text/plain": [
       "  technique variable n min   max    median iqr   mean  sd     se    ci    \n",
       "1 ADV       DTO      6 0.133  0.432 0.244  0.186 0.264  0.122 0.050  0.128\n",
       "2 baseline  DTO      6 0.152  0.477 0.298  0.244 0.308  0.142 0.058  0.149\n",
       "3 BT        DTO      6 0.141  0.435 0.248  0.208 0.276  0.127 0.052  0.133\n",
       "4 INLP      DTO      6 0.154 30.300 0.330  0.255 5.290 12.253 5.002 12.858"
      ]
     },
     "metadata": {},
     "output_type": "display_data"
    },
    {
     "data": {
      "text/html": [
       "<table>\n",
       "<thead><tr><th scope=col>time</th><th scope=col>variable</th><th scope=col>n</th><th scope=col>min</th><th scope=col>max</th><th scope=col>median</th><th scope=col>iqr</th><th scope=col>mean</th><th scope=col>sd</th><th scope=col>se</th><th scope=col>ci</th></tr></thead>\n",
       "<tbody>\n",
       "\t<tr><td>t1   </td><td>score</td><td>10   </td><td>2.046</td><td>4.005</td><td>3.212</td><td>0.571</td><td>3.140</td><td>0.552</td><td>0.174</td><td>0.395</td></tr>\n",
       "\t<tr><td>t2   </td><td>score</td><td>10   </td><td>3.908</td><td>6.913</td><td>4.601</td><td>0.890</td><td>4.934</td><td>0.863</td><td>0.273</td><td>0.617</td></tr>\n",
       "\t<tr><td>t3   </td><td>score</td><td>10   </td><td>6.308</td><td>9.778</td><td>7.463</td><td>1.740</td><td>7.636</td><td>1.143</td><td>0.361</td><td>0.817</td></tr>\n",
       "</tbody>\n",
       "</table>\n"
      ],
      "text/latex": [
       "\\begin{tabular}{r|lllllllllll}\n",
       " time & variable & n & min & max & median & iqr & mean & sd & se & ci\\\\\n",
       "\\hline\n",
       "\t t1    & score & 10    & 2.046 & 4.005 & 3.212 & 0.571 & 3.140 & 0.552 & 0.174 & 0.395\\\\\n",
       "\t t2    & score & 10    & 3.908 & 6.913 & 4.601 & 0.890 & 4.934 & 0.863 & 0.273 & 0.617\\\\\n",
       "\t t3    & score & 10    & 6.308 & 9.778 & 7.463 & 1.740 & 7.636 & 1.143 & 0.361 & 0.817\\\\\n",
       "\\end{tabular}\n"
      ],
      "text/markdown": [
       "\n",
       "| time | variable | n | min | max | median | iqr | mean | sd | se | ci |\n",
       "|---|---|---|---|---|---|---|---|---|---|---|\n",
       "| t1    | score | 10    | 2.046 | 4.005 | 3.212 | 0.571 | 3.140 | 0.552 | 0.174 | 0.395 |\n",
       "| t2    | score | 10    | 3.908 | 6.913 | 4.601 | 0.890 | 4.934 | 0.863 | 0.273 | 0.617 |\n",
       "| t3    | score | 10    | 6.308 | 9.778 | 7.463 | 1.740 | 7.636 | 1.143 | 0.361 | 0.817 |\n",
       "\n"
      ],
      "text/plain": [
       "  time variable n  min   max   median iqr   mean  sd    se    ci   \n",
       "1 t1   score    10 2.046 4.005 3.212  0.571 3.140 0.552 0.174 0.395\n",
       "2 t2   score    10 3.908 6.913 4.601  0.890 4.934 0.863 0.273 0.617\n",
       "3 t3   score    10 6.308 9.778 7.463  1.740 7.636 1.143 0.361 0.817"
      ]
     },
     "metadata": {},
     "output_type": "display_data"
    }
   ],
   "source": [
    "debias %>%\n",
    "  group_by(technique) %>%\n",
    "  get_summary_stats(DTO, type = \"common\")\n",
    "selfesteem %>%\n",
    "  group_by(time) %>%\n",
    "  get_summary_stats(score, type = \"common\")"
   ]
  },
  {
   "cell_type": "code",
   "execution_count": 22,
   "id": "76708989-047b-4547-87df-3de323957693",
   "metadata": {},
   "outputs": [
    {
     "data": {
      "image/png": "[encoded data removed]",
      "text/plain": [
       "plot without title"
      ]
     },
     "metadata": {},
     "output_type": "display_data"
    },
    {
     "data": {
      "image/png": "[encoded data removed]",
      "text/plain": [
       "plot without title"
      ]
     },
     "metadata": {},
     "output_type": "display_data"
    }
   ],
   "source": [
    "ggboxplot(selfesteem, x = \"time\", y = \"score\", add = \"jitter\")\n",
    "ggboxplot(debias, x = \"technique\", y = \"DTO\", add = \"jitter\")"
   ]
  },
  {
   "cell_type": "code",
   "execution_count": 32,
   "id": "f50ff886-c9f1-4d30-a832-e62387d22e09",
   "metadata": {},
   "outputs": [
    {
     "data": {
      "text/html": [
       "<table>\n",
       "<thead><tr><th scope=col>.y.</th><th scope=col>n</th><th scope=col>statistic</th><th scope=col>df</th><th scope=col>p</th><th scope=col>method</th></tr></thead>\n",
       "<tbody>\n",
       "\t<tr><td>score        </td><td>10           </td><td>18.2         </td><td>2            </td><td>0.0001116658 </td><td>Friedman test</td></tr>\n",
       "</tbody>\n",
       "</table>\n"
      ],
      "text/latex": [
       "\\begin{tabular}{r|llllll}\n",
       " .y. & n & statistic & df & p & method\\\\\n",
       "\\hline\n",
       "\t score         & 10            & 18.2          & 2             & 0.0001116658  & Friedman test\\\\\n",
       "\\end{tabular}\n"
      ],
      "text/markdown": [
       "\n",
       "| .y. | n | statistic | df | p | method |\n",
       "|---|---|---|---|---|---|\n",
       "| score         | 10            | 18.2          | 2             | 0.0001116658  | Friedman test |\n",
       "\n"
      ],
      "text/plain": [
       "  .y.   n  statistic df p            method       \n",
       "1 score 10 18.2      2  0.0001116658 Friedman test"
      ]
     },
     "metadata": {},
     "output_type": "display_data"
    },
    {
     "data": {
      "text/html": [
       "<table>\n",
       "<thead><tr><th scope=col>.y.</th><th scope=col>n</th><th scope=col>statistic</th><th scope=col>df</th><th scope=col>p</th><th scope=col>method</th></tr></thead>\n",
       "<tbody>\n",
       "\t<tr><td>DTO          </td><td>6            </td><td>7.8          </td><td>3            </td><td>0.0503311    </td><td>Friedman test</td></tr>\n",
       "</tbody>\n",
       "</table>\n"
      ],
      "text/latex": [
       "\\begin{tabular}{r|llllll}\n",
       " .y. & n & statistic & df & p & method\\\\\n",
       "\\hline\n",
       "\t DTO           & 6             & 7.8           & 3             & 0.0503311     & Friedman test\\\\\n",
       "\\end{tabular}\n"
      ],
      "text/markdown": [
       "\n",
       "| .y. | n | statistic | df | p | method |\n",
       "|---|---|---|---|---|---|\n",
       "| DTO           | 6             | 7.8           | 3             | 0.0503311     | Friedman test |\n",
       "\n"
      ],
      "text/plain": [
       "  .y. n statistic df p         method       \n",
       "1 DTO 6 7.8       3  0.0503311 Friedman test"
      ]
     },
     "metadata": {},
     "output_type": "display_data"
    }
   ],
   "source": [
    "res.fried <- selfesteem %>% friedman_test(score ~ time |id)\n",
    "res.fried\n",
    "res.fried <- debias %>% friedman_test(DTO ~ technique |ID)\n",
    "res.fried"
   ]
  },
  {
   "cell_type": "code",
   "execution_count": 33,
   "id": "80d1ef79-4b7d-4c94-8a04-3e3bcbca2db6",
   "metadata": {},
   "outputs": [
    {
     "data": {
      "text/html": [
       "<table>\n",
       "<thead><tr><th scope=col>.y.</th><th scope=col>n</th><th scope=col>effsize</th><th scope=col>method</th><th scope=col>magnitude</th></tr></thead>\n",
       "<tbody>\n",
       "\t<tr><td>score    </td><td>10       </td><td>0.91     </td><td>Kendall W</td><td>large    </td></tr>\n",
       "</tbody>\n",
       "</table>\n"
      ],
      "text/latex": [
       "\\begin{tabular}{r|lllll}\n",
       " .y. & n & effsize & method & magnitude\\\\\n",
       "\\hline\n",
       "\t score     & 10        & 0.91      & Kendall W & large    \\\\\n",
       "\\end{tabular}\n"
      ],
      "text/markdown": [
       "\n",
       "| .y. | n | effsize | method | magnitude |\n",
       "|---|---|---|---|---|\n",
       "| score     | 10        | 0.91      | Kendall W | large     |\n",
       "\n"
      ],
      "text/plain": [
       "  .y.   n  effsize method    magnitude\n",
       "1 score 10 0.91    Kendall W large    "
      ]
     },
     "metadata": {},
     "output_type": "display_data"
    },
    {
     "data": {
      "text/html": [
       "<table>\n",
       "<thead><tr><th scope=col>.y.</th><th scope=col>n</th><th scope=col>effsize</th><th scope=col>method</th><th scope=col>magnitude</th></tr></thead>\n",
       "<tbody>\n",
       "\t<tr><td>DTO      </td><td>6        </td><td>0.4333333</td><td>Kendall W</td><td>moderate </td></tr>\n",
       "</tbody>\n",
       "</table>\n"
      ],
      "text/latex": [
       "\\begin{tabular}{r|lllll}\n",
       " .y. & n & effsize & method & magnitude\\\\\n",
       "\\hline\n",
       "\t DTO       & 6         & 0.4333333 & Kendall W & moderate \\\\\n",
       "\\end{tabular}\n"
      ],
      "text/markdown": [
       "\n",
       "| .y. | n | effsize | method | magnitude |\n",
       "|---|---|---|---|---|\n",
       "| DTO       | 6         | 0.4333333 | Kendall W | moderate  |\n",
       "\n"
      ],
      "text/plain": [
       "  .y. n effsize   method    magnitude\n",
       "1 DTO 6 0.4333333 Kendall W moderate "
      ]
     },
     "metadata": {},
     "output_type": "display_data"
    }
   ],
   "source": [
    "selfesteem %>% friedman_effsize(score ~ time |id)\n",
    "debias %>% friedman_effsize(DTO ~ technique |ID)"
   ]
  },
  {
   "cell_type": "code",
   "execution_count": 42,
   "id": "c9b4be1c-e79a-4250-ba4d-aae74f37483f",
   "metadata": {},
   "outputs": [],
   "source": [
    "library(xtable)"
   ]
  },
  {
   "cell_type": "code",
   "execution_count": 44,
   "id": "1d5cceff-55a0-42c1-8034-73fe0bd91d60",
   "metadata": {},
   "outputs": [
    {
     "data": {
      "text/html": [
       "<table>\n",
       "<thead><tr><th scope=col>.y.</th><th scope=col>group1</th><th scope=col>group2</th><th scope=col>n1</th><th scope=col>n2</th><th scope=col>statistic</th><th scope=col>p</th><th scope=col>p.adj</th><th scope=col>p.adj.signif</th></tr></thead>\n",
       "<tbody>\n",
       "\t<tr><td>score</td><td>t1   </td><td>t2   </td><td>10   </td><td>10   </td><td>0    </td><td>0.002</td><td>0.006</td><td>**   </td></tr>\n",
       "\t<tr><td>score</td><td>t1   </td><td>t3   </td><td>10   </td><td>10   </td><td>0    </td><td>0.002</td><td>0.006</td><td>**   </td></tr>\n",
       "\t<tr><td>score</td><td>t2   </td><td>t3   </td><td>10   </td><td>10   </td><td>1    </td><td>0.004</td><td>0.012</td><td>*    </td></tr>\n",
       "</tbody>\n",
       "</table>\n"
      ],
      "text/latex": [
       "\\begin{tabular}{r|lllllllll}\n",
       " .y. & group1 & group2 & n1 & n2 & statistic & p & p.adj & p.adj.signif\\\\\n",
       "\\hline\n",
       "\t score & t1    & t2    & 10    & 10    & 0     & 0.002 & 0.006 & **   \\\\\n",
       "\t score & t1    & t3    & 10    & 10    & 0     & 0.002 & 0.006 & **   \\\\\n",
       "\t score & t2    & t3    & 10    & 10    & 1     & 0.004 & 0.012 & *    \\\\\n",
       "\\end{tabular}\n"
      ],
      "text/markdown": [
       "\n",
       "| .y. | group1 | group2 | n1 | n2 | statistic | p | p.adj | p.adj.signif |\n",
       "|---|---|---|---|---|---|---|---|---|\n",
       "| score | t1    | t2    | 10    | 10    | 0     | 0.002 | 0.006 | **    |\n",
       "| score | t1    | t3    | 10    | 10    | 0     | 0.002 | 0.006 | **    |\n",
       "| score | t2    | t3    | 10    | 10    | 1     | 0.004 | 0.012 | *     |\n",
       "\n"
      ],
      "text/plain": [
       "  .y.   group1 group2 n1 n2 statistic p     p.adj p.adj.signif\n",
       "1 score t1     t2     10 10 0         0.002 0.006 **          \n",
       "2 score t1     t3     10 10 0         0.002 0.006 **          \n",
       "3 score t2     t3     10 10 1         0.004 0.012 *           "
      ]
     },
     "metadata": {},
     "output_type": "display_data"
    },
    {
     "data": {
      "text/html": [
       "<table>\n",
       "<thead><tr><th scope=col>.y.</th><th scope=col>group1</th><th scope=col>group2</th><th scope=col>n1</th><th scope=col>n2</th><th scope=col>statistic</th><th scope=col>p</th><th scope=col>p.adj</th><th scope=col>p.adj.signif</th></tr></thead>\n",
       "<tbody>\n",
       "\t<tr><td>DTO     </td><td>ADV     </td><td>baseline</td><td>6       </td><td>6       </td><td> 5      </td><td>0.313   </td><td>1.000   </td><td>ns      </td></tr>\n",
       "\t<tr><td>DTO     </td><td>ADV     </td><td>BT      </td><td>6       </td><td>6       </td><td> 2      </td><td>0.094   </td><td>0.563   </td><td>ns      </td></tr>\n",
       "\t<tr><td>DTO     </td><td>ADV     </td><td>INLP    </td><td>6       </td><td>6       </td><td> 0      </td><td>0.031   </td><td>0.188   </td><td>ns      </td></tr>\n",
       "\t<tr><td>DTO     </td><td>baseline</td><td>BT      </td><td>6       </td><td>6       </td><td>15      </td><td>0.438   </td><td>1.000   </td><td>ns      </td></tr>\n",
       "\t<tr><td>DTO     </td><td>baseline</td><td>INLP    </td><td>6       </td><td>6       </td><td> 6      </td><td>0.438   </td><td>1.000   </td><td>ns      </td></tr>\n",
       "\t<tr><td>DTO     </td><td>BT      </td><td>INLP    </td><td>6       </td><td>6       </td><td> 3      </td><td>0.141   </td><td>0.846   </td><td>ns      </td></tr>\n",
       "</tbody>\n",
       "</table>\n"
      ],
      "text/latex": [
       "\\begin{tabular}{r|lllllllll}\n",
       " .y. & group1 & group2 & n1 & n2 & statistic & p & p.adj & p.adj.signif\\\\\n",
       "\\hline\n",
       "\t DTO      & ADV      & baseline & 6        & 6        &  5       & 0.313    & 1.000    & ns      \\\\\n",
       "\t DTO      & ADV      & BT       & 6        & 6        &  2       & 0.094    & 0.563    & ns      \\\\\n",
       "\t DTO      & ADV      & INLP     & 6        & 6        &  0       & 0.031    & 0.188    & ns      \\\\\n",
       "\t DTO      & baseline & BT       & 6        & 6        & 15       & 0.438    & 1.000    & ns      \\\\\n",
       "\t DTO      & baseline & INLP     & 6        & 6        &  6       & 0.438    & 1.000    & ns      \\\\\n",
       "\t DTO      & BT       & INLP     & 6        & 6        &  3       & 0.141    & 0.846    & ns      \\\\\n",
       "\\end{tabular}\n"
      ],
      "text/markdown": [
       "\n",
       "| .y. | group1 | group2 | n1 | n2 | statistic | p | p.adj | p.adj.signif |\n",
       "|---|---|---|---|---|---|---|---|---|\n",
       "| DTO      | ADV      | baseline | 6        | 6        |  5       | 0.313    | 1.000    | ns       |\n",
       "| DTO      | ADV      | BT       | 6        | 6        |  2       | 0.094    | 0.563    | ns       |\n",
       "| DTO      | ADV      | INLP     | 6        | 6        |  0       | 0.031    | 0.188    | ns       |\n",
       "| DTO      | baseline | BT       | 6        | 6        | 15       | 0.438    | 1.000    | ns       |\n",
       "| DTO      | baseline | INLP     | 6        | 6        |  6       | 0.438    | 1.000    | ns       |\n",
       "| DTO      | BT       | INLP     | 6        | 6        |  3       | 0.141    | 0.846    | ns       |\n",
       "\n"
      ],
      "text/plain": [
       "  .y. group1   group2   n1 n2 statistic p     p.adj p.adj.signif\n",
       "1 DTO ADV      baseline 6  6   5        0.313 1.000 ns          \n",
       "2 DTO ADV      BT       6  6   2        0.094 0.563 ns          \n",
       "3 DTO ADV      INLP     6  6   0        0.031 0.188 ns          \n",
       "4 DTO baseline BT       6  6  15        0.438 1.000 ns          \n",
       "5 DTO baseline INLP     6  6   6        0.438 1.000 ns          \n",
       "6 DTO BT       INLP     6  6   3        0.141 0.846 ns          "
      ]
     },
     "metadata": {},
     "output_type": "display_data"
    }
   ],
   "source": [
    "pwc <- selfesteem %>%\n",
    "  wilcox_test(score ~ time, paired = TRUE, p.adjust.method = \"bonferroni\")\n",
    "pwc\n",
    "pwc <- debias %>%\n",
    "  wilcox_test(DTO ~ technique, paired = TRUE, p.adjust.method = \"bonferroni\")\n",
    "pwc\n",
    "print(xtable(pwc, type = \"latex\"), file = \"/tmp/filename2.tex\")"
   ]
  },
  {
   "cell_type": "code",
   "execution_count": 40,
   "id": "8a2936ac-032d-4d81-b6e0-e1d707f120bc",
   "metadata": {},
   "outputs": [
    {
     "data": {
      "image/png": "[encoded data removed]",
      "text/plain": [
       "plot without title"
      ]
     },
     "metadata": {},
     "output_type": "display_data"
    }
   ],
   "source": [
    "pwc <- pwc %>% add_xy_position(x = \"time\")\n",
    "ggboxplot(selfesteem, x = \"time\", y = \"score\", add = \"point\") +\n",
    "  stat_pvalue_manual(pwc, hide.ns = TRUE) +\n",
    "  labs(\n",
    "    subtitle = get_test_label(res.fried,  detailed = TRUE),\n",
    "    caption = get_pwc_label(pwc)\n",
    "  )"
   ]
  },
  {
   "cell_type": "code",
   "execution_count": null,
   "id": "9129ece2-ceef-46e1-bbbf-73e60953a79b",
   "metadata": {},
   "outputs": [],
   "source": []
  }
 ],
 "metadata": {
  "kernelspec": {
   "display_name": "R",
   "language": "R",
   "name": "ir"
  },
  "language_info": {
   "codemirror_mode": "r",
   "file_extension": ".r",
   "mimetype": "text/x-r-source",
   "name": "R",
   "pygments_lexer": "r",
   "version": "3.6.3"
  }
 },
 "nbformat": 4,
 "nbformat_minor": 5
}
