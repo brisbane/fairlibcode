{
 "cells": [
  {
   "cell_type": "code",
   "execution_count": 1,
   "id": "7bb4dcda-5579-48dd-8829-30ebb5f7c5cb",
   "metadata": {},
   "outputs": [],
   "source": [
    "import fairlib.src.dataloaders.loaders as fldl\n",
    "import fairlib.src.dataloaders.loaders.bffhq as bffhq\n",
    "import fairlib.src.dataloaders.loaders.ColoredMNIST as ColoredMNIST\n",
    "import fairlib.src.dataloaders.loaders.COMPAS as COMPAS\n",
    "import fairlib.src.dataloaders.loaders.Bios as Bios\n",
    "from functools import partial\n",
    "\n",
    "from fairlib import datasets\n",
    "from dotmap import DotMap\n",
    "import yaml, torch\n",
    "from pathlib import Path\n",
    "import pandas as pd\n",
    "import numpy as np\n",
    "import pickle\n"
   ]
  },
  {
   "cell_type": "code",
   "execution_count": 2,
   "id": "d0835ab5-3e91-4072-8895-0e6eece26970",
   "metadata": {},
   "outputs": [],
   "source": [
    "df  =pd.read_pickle(open(\"/home/user/miniconda3/analysis/results/Bios_gender_Vanilla_df.pkl\",\"rb\"))"
   ]
  },
  {
   "cell_type": "code",
   "execution_count": 3,
   "id": "4c1dd5b3-f9e2-4ff1-9980-31348306860f",
   "metadata": {},
   "outputs": [
    {
     "data": {
      "text/plain": [
       "5"
      ]
     },
     "execution_count": 3,
     "metadata": {},
     "output_type": "execute_result"
    }
   ],
   "source": [
    "df.shape[0]"
   ]
  },
  {
   "cell_type": "code",
   "execution_count": 4,
   "id": "6b1281b5-afab-4bcd-b170-d29c6ab3a4dd",
   "metadata": {},
   "outputs": [
    {
     "data": {
      "text/plain": [
       "'./data/bios_gender_economy'"
      ]
     },
     "execution_count": 4,
     "metadata": {},
     "output_type": "execute_result"
    }
   ],
   "source": [
    "fldl.default_dataset_roots['Bios_gender']"
   ]
  },
  {
   "cell_type": "code",
   "execution_count": 5,
   "id": "5e167c4f-8328-4573-b5a6-e4e8286c5149",
   "metadata": {},
   "outputs": [],
   "source": [
    "argsc=DotMap(yaml.safe_load(Path('/home/user/fairlibcode/example_conf_file/MNIST_vanilla.yaml').read_text()))"
   ]
  },
  {
   "cell_type": "code",
   "execution_count": 6,
   "id": "4d56885f-5d10-417b-824a-e3a1358881ff",
   "metadata": {},
   "outputs": [],
   "source": [
    "argscp=DotMap(yaml.safe_load(Path('/home/user/fairlibcode/example_conf_file/COMPAS_race_test.yaml').read_text()))"
   ]
  },
  {
   "cell_type": "code",
   "execution_count": 7,
   "id": "1858585c-e21c-41fc-ba8d-f4b708dbb17d",
   "metadata": {},
   "outputs": [],
   "source": [
    "argsbs=DotMap(yaml.safe_load(Path('/home/user/fairlibcode/example_conf_file/Bios_gender_adv.yaml').read_text()))"
   ]
  },
  {
   "cell_type": "code",
   "execution_count": 8,
   "id": "7183785f-5086-4891-bb99-ad07ab43d518",
   "metadata": {},
   "outputs": [
    {
     "data": {
      "text/plain": [
       "dict_keys(['moji', 'bios', 'coloredmnist', 'compas', 'tp_pos', 'adult', 'coco', 'imsitu', 'bffhq', 'celeba', 'celeba_bm'])"
      ]
     },
     "execution_count": 8,
     "metadata": {},
     "output_type": "execute_result"
    }
   ],
   "source": [
    "datasets.name2class.keys()"
   ]
  },
  {
   "cell_type": "code",
   "execution_count": 9,
   "id": "117fc327-31ca-4b05-9892-f0d76d1a39b5",
   "metadata": {},
   "outputs": [
    {
     "data": {
      "text/plain": [
       "DotMap(ARL=False, ARL_n=1, BT=None, BTObj=None, DyBT=None, DyBTObj=None, DyBTalpha=0.1, DyBTinit='original', FCL=False, FCLObj='g', GBT=False, GBTObj=None, GBT_N=None, GBT_alpha=1, INLP=False, INLP_by_class=False, INLP_discriminator_reweighting=None, INLP_min_acc=0.0, INLP_n=300, activation_function='Tanh', adv_BT=None, adv_BTObj=None, adv_activation_function='ReLu', adv_batch_norm=False, adv_batch_size=512, adv_checkpoint_interval=1, adv_corr_loss=False, adv_debiasing=True, adv_decoupling=False, adv_decoupling_labelled_proportion=1.0, adv_diverse_lambda=0, adv_dropout=0.4, adv_epochs=100, adv_epochs_since_improvement=5, adv_gated=False, adv_gated_mapping=None, adv_gated_type='Augmentation', adv_hidden_size=256, adv_lambda=1.5, adv_level='last_hidden', adv_lr=0.001, adv_n_hidden=2, adv_num_subDiscriminator=3, adv_test_batch_size=512, adv_uniform_label=False, adv_update_frequency='Batch', base_seed=1, batch_norm=False, batch_size=512, checkpoint_interval=1, classification_head_update_frequency=1, conf_file=None, data_dir='/home/user/miniconda3/data/bios', dataset='Bios_gender', device_id=0, lr_scheduler='default', dropout=0.4, emb_size=768, encoder_architecture='Fixed', epochs=100, epochs_since_improvement=10, exp_id='vanilla', f=None, fcl_base_temperature_g=0.01, fcl_base_temperature_y=0.01, fcl_lambda_g=0.1, fcl_lambda_y=0.1, fcl_temperature_g=0.01, fcl_temperature_y=0.01, full_label=True, gated=False, gated_mapping=None, hidden_size=300, log_file='./results/dev/Bios_gender/test/output.log', log_interval=50, log_level='INFO', lr=0.001, model_dir='./results', n_bins=4, n_hidden=2, no_log=False, num_classes=28, num_groups=2, num_workers=0, project_dir='dev', regression=False, results_dir='./results/', save_batch_results=False, save_models=False, start_time='2024-02-18 18:22:31', test_batch_size=512, weight_decay=0.0, _ipython_display_=DotMap(), _repr_mimebundle_=DotMap())"
      ]
     },
     "execution_count": 9,
     "metadata": {},
     "output_type": "execute_result"
    }
   ],
   "source": [
    "argsbs"
   ]
  },
  {
   "cell_type": "code",
   "execution_count": 10,
   "id": "9765b8b4-dee6-4889-b57d-d96ca15cd450",
   "metadata": {},
   "outputs": [
    {
     "name": "stdout",
     "output_type": "stream",
     "text": [
      "<class 'PIL.Image.Image'>\n",
      "10000\n",
      "Loaded data shapes: (10000, 3, 28, 28), (10000,), (10000,)\n",
      "<class 'PIL.Image.Image'>\n",
      "10000\n"
     ]
    }
   ],
   "source": [
    "#import importlib\n",
    "#importlib.reload(ColoredMNIST)\n",
    "c=ColoredMNIST.MNISTDataset(args=argsc, split=\"dev\")\n",
    "c.load_data()\n",
    "ctuple=torch.load(c.data_dir)\n",
    "\n",
    "cdict={'features' : ctuple[0], 'target': ctuple[1], 'protected': ctuple[2] }\n",
    "cdf = pd.DataFrame(cdict)\n"
   ]
  },
  {
   "cell_type": "code",
   "execution_count": 3,
   "id": "a80d7ea3-3abc-4f14-8a61-90271a3ba209",
   "metadata": {},
   "outputs": [],
   "source": [
    "\n",
    "\n",
    "\n",
    "globaldata=\"/home/user/miniconda3/data\"\n",
    "bs=DotMap ({'data_dir': f'{globaldata}/bios/bios_dev_df.pkl', \"dataset\": \"Bios_gender\", \"protected_task\": \"gender\" })\n",
    "#argsbs.update(bs)\n",
    "compas=DotMap({'data_dir': f'{globaldata}/compas/COMPAS_dev.pkl' })\n",
    "chsy=DotMap ({'data_dir': f'{globaldata}/celeba_bm/celebMHQ_Blond_HairMale_dev_pre.pt' })\n",
    "chbm_wi=DotMap ({'data_dir': f'{globaldata}/celeba_bm/celebMHQ_Blond_HairMale_dev_pre.pt' })\n",
    "chbm=DotMap ({'data_dir': f'{globaldata}/celeba/celeba_dev_pre.pt' })\n",
    "bffhq=DotMap ({'data_dir': f'{globaldata}/bffhq/bffhq_dev.pt' })\n",
    "adult=DotMap ({'data_dir': f'{globaldata}/adult/Adult_dev.pkl'})\n",
    "adultpre=DotMap ({'data_dir': f'{globaldata}/adult/adult.data', \n",
    "                  'columns': [\n",
    "    \"age\", \"workclass\", \"fnlwgt\", \"education\", \"education-num\",\n",
    "    \"marital-status\", \"occupation\", \"relationship\", \"race\", \"sex\",\n",
    "    \"capital-gain\", \"capital-loss\", \"hours-per-week\", \"native-country\", \"income\"\n",
    "    ]\n",
    "                 \n",
    "})\n",
    "replace_countries_d={\n",
    "\"Dominican-Republic\": \"Americas\",\n",
    "\"Japan\": \"Asia\",\n",
    "\"Guatemala\": \"Americas\",\n",
    "\"Vietnam\": \"Asia\",\n",
    "\"Columbia\": \"Americas\",\n",
    "\"Poland\": \"Europe\",\n",
    "\"Haiti\": \"Americas\",\n",
    "\"Portugal\": \"Europe\",\n",
    "\"Iran\": \"Asia\",\n",
    "\"Taiwan\": \"Asia\",\n",
    "\"Greece\": \"Europe\",\n",
    "\"Nicaragua\": \"Americas\",\n",
    "\"Peru\": \"Americas\",\n",
    "\"Ecuador\": \"Americas\",\n",
    "\"Ireland\": \"Europe\",\n",
    "\"France\": \"Europe\",\n",
    "\"Thailand\": \"Asia\",\n",
    "\"Hong\": \"Asia\",\n",
    "\"Cambodia\": \"Asia\",\n",
    "\"Trinadad&Tobago\": \"Americas\",\n",
    "\"Yugoslavia\": \"Europe\",\n",
    "\"Outlying-US(Guam-USVI-etc)\": \"Americas\",\n",
    "\"Laos\": \"Asia\",\n",
    "\"Scotland\": \"Europe\",\n",
    "\"Honduras\": \"Americas\",\n",
    "\"Hungary\": \"Europe\",\n",
    "\"Holand-Netherlands\": \"Europe\",\n",
    "\">50K.\": \">50K\",\n",
    "\"<=50K.\": \"<=50K\",    \n",
    "}\n",
    "\n",
    "#bs=Bios.BiosDataset(args=argsbs, split=\"dev\")\n",
    "#bs.load_data()\n",
    "#print(bs.data_dir)\n",
    "#bstuple=torch.load(bs.data_dir)\n",
    "adultdf=pd.concat([pd.read_pickle(adult.data_dir), pd.read_pickle(adult.data_dir.replace('dev', 'train')), \n",
    "              pd.read_pickle(adult.data_dir.replace('dev', 'test'))], ignore_index=True)\n",
    "\n",
    "adult_pre_df=pd.concat([pd.read_csv(adultpre.data_dir, sep=',', names=adultpre.columns, skipinitialspace=True ), \n",
    "                        pd.read_csv(adultpre.data_dir.replace('.data', '.test'), sep=',', names=adultpre.columns, skipinitialspace=True )], ignore_index=True)\n",
    "adult_pre_df.replace(list(replace_countries_d.keys()), list(replace_countries_d.values()), inplace=True)\n",
    "adult_pre_df.name=\"Adult\"\n",
    "adult_pre_df.dropna(inplace=True, subset='sex')\n",
    "bsdf=pd.concat([pd.read_pickle(bs.data_dir), pd.read_pickle(bs.data_dir.replace('dev', 'train')), \n",
    "              pd.read_pickle(bs.data_dir.replace('dev', 'test'))], ignore_index=True)\n",
    "compasdf=pd.concat([pd.read_pickle(compas.data_dir), pd.read_pickle(compas.data_dir.replace('dev', 'train')), \n",
    "              pd.read_pickle(compas.data_dir.replace('dev', 'test'))], ignore_index=True)\n",
    "chsydf=pd.concat([torch.load(chsy.data_dir), torch.load(chsy.data_dir.replace('dev', 'train')), \n",
    "              torch.load(chsy.data_dir.replace('dev', 'test'))], ignore_index=True)\n",
    "chbmdf=pd.concat([torch.load(chbm.data_dir), torch.load(chbm.data_dir.replace('dev', 'train')), \n",
    "              torch.load(chbm.data_dir.replace('dev', 'test'))], ignore_index=True)\n",
    "bffhqdf=pd.concat([torch.load(bffhq.data_dir), torch.load(bffhq.data_dir.replace('dev', 'train')), \n",
    "              torch.load(bffhq.data_dir.replace('dev', 'test'))], ignore_index=True)\n",
    "chbmdf_plot=chbmdf.copy().rename( columns={\"target\": \"Blonde\", \"protected\": \"Male\"})\n",
    "bffhq_plot=bffhqdf.copy().rename( columns={\"target\": \"Young\", \"protected\": \"Male\"})\n",
    "compas_plot=compasdf.copy().rename( columns={\"is_recid\": \"Recidivated\", 'race': 'race_old'})\n",
    "chbm_widf=torch.load(chbm_wi.data_dir)\n",
    "\n",
    "def racecat_compas(y):\n",
    "    #print(y)\n",
    "    if y == 0 : return \"Other\"\n",
    "    if y == 2 : return \"Black\"\n",
    "    if y == 1 : return \"White\"\n",
    "    if y == \"White\" : return \"White\"\n",
    "    if y == \"Black\" : return \"Black\"\n",
    "    if y == \"White\" : return \"White\"\n",
    "    if y == \"African-American\" : return \"Black\"\n",
    "    if y == \"Caucasian\" : return \"White\"\n",
    "    return \"Other\"\n",
    "compas_base_plot=pd.read_csv(\"/home/user/miniconda3/data/compas/compas-scores-two-years.csv\")\n",
    "#(r[ (r['race']==\"African-American\")| (r['race'] == \"Af-Am\" )].is_recid).sum()/(r['race']==\"African-American\").sum()\n",
    "compas_base_plot.rename({\"African-American\": \"Black\", \"Caucasian\": \"White\"}, inplace=True)\n",
    "compas_base_plot = compas_base_plot.rename( columns={\"is_recid\": \"Recidivated\", 'race': 'race_old'})\n",
    "\n",
    "compas_base_plot['Race'] = compas_base_plot['race_old'].apply(racecat_compas)\n",
    "\n",
    "compas_plot['Race']=compas_plot['race_old'].apply(racecat_compas)\n",
    "compas_plot['Recidivated']= compas_plot['Recidivated'].astype(int)\n",
    "\n",
    "adult_plot=adult_pre_df\n",
    "#cpdict={'features' : cptuple[0], 'target': cptuple[1], 'protected': cptuple[2] }\n",
    "#cpdf = pd.DataFrame(cpdict)"
   ]
  },
  {
   "cell_type": "code",
   "execution_count": 231,
   "id": "e3e3272a-bc2e-44a5-8643-40b52487f81d",
   "metadata": {},
   "outputs": [
    {
     "data": {
      "text/plain": [
       "0       1\n",
       "1       1\n",
       "2       0\n",
       "3       1\n",
       "4       1\n",
       "       ..\n",
       "6167    1\n",
       "6168    0\n",
       "6169    0\n",
       "6170    0\n",
       "6171    1\n",
       "Name: Recidivated, Length: 6172, dtype: int64"
      ]
     },
     "execution_count": 231,
     "metadata": {},
     "output_type": "execute_result"
    }
   ],
   "source": [
    "compas_plot.Recidivated"
   ]
  },
  {
   "cell_type": "code",
   "execution_count": 12,
   "id": "82346c7a-6e03-4b67-b209-7a24a36504ed",
   "metadata": {},
   "outputs": [
    {
     "data": {
      "text/plain": [
       "0.46286566875856267"
      ]
     },
     "execution_count": 12,
     "metadata": {},
     "output_type": "execute_result"
    }
   ],
   "source": [
    "(bsdf.g=='f').sum()/bsdf.g.count()"
   ]
  },
  {
   "cell_type": "code",
   "execution_count": 30,
   "id": "381c30e7-1257-40d4-84e6-71b4421a4942",
   "metadata": {},
   "outputs": [
    {
     "data": {
      "text/plain": [
       "0.23928176569346055"
      ]
     },
     "execution_count": 30,
     "metadata": {},
     "output_type": "execute_result"
    }
   ],
   "source": [
    "(adultdf.income==1).sum()/adultdf.income.count()"
   ]
  },
  {
   "cell_type": "code",
   "execution_count": 29,
   "id": "346d6251-1ada-4acc-9051-fb97e5d6be18",
   "metadata": {},
   "outputs": [
    {
     "data": {
      "text/plain": [
       "0.03621882805781909"
      ]
     },
     "execution_count": 29,
     "metadata": {},
     "output_type": "execute_result"
    }
   ],
   "source": [
    "((adultdf.sex==1) & (adultdf.income==1)).sum()/adultdf.income.count()"
   ]
  },
  {
   "cell_type": "code",
   "execution_count": 16,
   "id": "5e93b46b-d531-4b57-9a28-7045c0ac120f",
   "metadata": {},
   "outputs": [
    {
     "data": {
      "text/plain": [
       "0.14337265787647469"
      ]
     },
     "execution_count": 16,
     "metadata": {},
     "output_type": "execute_result"
    }
   ],
   "source": [
    "1-6172/7205"
   ]
  },
  {
   "cell_type": "code",
   "execution_count": 14,
   "id": "10de8007-a0fd-476f-99be-db89f52b8292",
   "metadata": {},
   "outputs": [
    {
     "data": {
      "text/plain": [
       "28"
      ]
     },
     "execution_count": 14,
     "metadata": {},
     "output_type": "execute_result"
    }
   ],
   "source": [
    "len(bsdf.p.unique())"
   ]
  },
  {
   "cell_type": "code",
   "execution_count": 174,
   "id": "22f67b2c-71fe-4047-8e3a-2a3a32f41932",
   "metadata": {},
   "outputs": [
    {
     "data": {
      "text/plain": [
       "Index(['id', 'name', 'first', 'last', 'compas_screening_date', 'sex', 'dob',\n",
       "       'age', 'age_cat', 'race_old', 'juv_fel_count', 'decile_score',\n",
       "       'juv_misd_count', 'juv_other_count', 'priors_count',\n",
       "       'days_b_screening_arrest', 'c_jail_in', 'c_jail_out', 'c_case_number',\n",
       "       'c_offense_date', 'c_arrest_date', 'c_days_from_compas',\n",
       "       'c_charge_degree', 'c_charge_desc', 'Recidivated', 'r_case_number',\n",
       "       'r_charge_degree', 'r_days_from_arrest', 'r_offense_date',\n",
       "       'r_charge_desc', 'r_jail_in', 'r_jail_out', 'violent_recid',\n",
       "       'is_violent_recid', 'vr_case_number', 'vr_charge_degree',\n",
       "       'vr_offense_date', 'vr_charge_desc', 'type_of_assessment',\n",
       "       'decile_score.1', 'score_text', 'screening_date',\n",
       "       'v_type_of_assessment', 'v_decile_score', 'v_score_text',\n",
       "       'v_screening_date', 'in_custody', 'out_custody', 'priors_count.1',\n",
       "       'start', 'end', 'event', 'two_year_recid', 'Race'],\n",
       "      dtype='object')"
      ]
     },
     "execution_count": 174,
     "metadata": {},
     "output_type": "execute_result"
    }
   ],
   "source": [
    "compas_base_plot.columns"
   ]
  },
  {
   "cell_type": "code",
   "execution_count": 309,
   "id": "039b32f4-1181-4e19-91de-60162368aa4c",
   "metadata": {},
   "outputs": [
    {
     "data": {
      "text/plain": [
       "0.34073233959818533"
      ]
     },
     "execution_count": 309,
     "metadata": {},
     "output_type": "execute_result"
    }
   ],
   "source": [
    "(compasdf.race==1).sum()/compasdf.shape[0]\n"
   ]
  },
  {
   "cell_type": "code",
   "execution_count": 316,
   "id": "dee33d34-3db9-4e36-ab9a-b9a4b4b87d81",
   "metadata": {},
   "outputs": [],
   "source": [
    "cnf=np.array([[1,2,3],[4,5,6],[7,8,9]])\n",
    "FP = cnf.sum(axis=0) - np.diag(cnf) + 1e-5\n",
    "FN = cnf.sum(axis=1) - np.diag(cnf) + 1e-5\n",
    "TP = np.diag(cnf) + 1e-5\n",
    "TN = cnf.sum() - (FP + FN + TP) + 1e-5\n"
   ]
  },
  {
   "cell_type": "code",
   "execution_count": 321,
   "id": "759ba13e-539b-41a3-8a30-7e60ae682ecd",
   "metadata": {},
   "outputs": [],
   "source": [
    "TPR = TP/(TP+FN)"
   ]
  },
  {
   "cell_type": "code",
   "execution_count": 330,
   "id": "5180a7bd-65d9-4a2f-be57-47fd8a6aa5cc",
   "metadata": {},
   "outputs": [
    {
     "data": {
      "text/plain": [
       "array([45])"
      ]
     },
     "execution_count": 330,
     "metadata": {},
     "output_type": "execute_result"
    }
   ],
   "source": [
    "np.sum(abs(np.stack(cnf, axis=1).reshape(-1,1)), axis=0)"
   ]
  },
  {
   "cell_type": "code",
   "execution_count": 235,
   "id": "7caebc0f-2232-4c92-9cf7-1c46c8035da9",
   "metadata": {},
   "outputs": [],
   "source": [
    "def compas_preprocess(temp_df):\n",
    "            temp_df2 = temp_df[(\n",
    "               (temp_df['days_b_screening_arrest'] <= 30 ) &  (temp_df['days_b_screening_arrest'] >= -30)  &\n",
    "               (temp_df['days_b_screening_arrest'].notna() ) &\n",
    "               (temp_df['c_charge_degree']  != \"O\") &\n",
    "               ( temp_df['score_text'] != 'N/A' ) )\n",
    "               ]\n",
    "            return temp_df2"
   ]
  },
  {
   "cell_type": "code",
   "execution_count": 29,
   "id": "a23dfde3-74f0-43f7-a5ec-81de256757d6",
   "metadata": {},
   "outputs": [
    {
     "data": {
      "text/plain": [
       "0.46973333333333334"
      ]
     },
     "execution_count": 29,
     "metadata": {},
     "output_type": "execute_result"
    }
   ],
   "source": [
    "chbmdf.target.sum()/chbmdf.shape[0]"
   ]
  },
  {
   "cell_type": "code",
   "execution_count": 35,
   "id": "1e2b31cc-7d68-44b1-9bc4-d435e85a2334",
   "metadata": {},
   "outputs": [
    {
     "data": {
      "text/plain": [
       "10603"
      ]
     },
     "execution_count": 35,
     "metadata": {},
     "output_type": "execute_result"
    }
   ],
   "source": [
    "((chbmdf.target==1 ) & (chbmdf.protected==1 )).sum()"
   ]
  },
  {
   "cell_type": "code",
   "execution_count": 39,
   "id": "5dc85420-cb47-430e-b401-3ad8139efd5b",
   "metadata": {},
   "outputs": [
    {
     "data": {
      "text/plain": [
       "0.5260856453558505"
      ]
     },
     "execution_count": 39,
     "metadata": {},
     "output_type": "execute_result"
    }
   ],
   "source": [
    "((chbmdf.target==1 ) & (chbmdf.protected==0 )).sum() / ((chbmdf.protected==0 )).sum()"
   ]
  },
  {
   "cell_type": "code",
   "execution_count": 41,
   "id": "5c54feb0-7564-4cf1-9644-2494555d849e",
   "metadata": {},
   "outputs": [
    {
     "data": {
      "text/plain": [
       "0.453740157480315"
      ]
     },
     "execution_count": 41,
     "metadata": {},
     "output_type": "execute_result"
    }
   ],
   "source": [
    "((chbmdf.target==1 ) & (chbmdf.protected==1 )).sum() / (chbmdf.protected==1 ).sum()"
   ]
  },
  {
   "cell_type": "code",
   "execution_count": 37,
   "id": "1193bbeb-dfce-4a7e-a2fd-9b0330176c16",
   "metadata": {},
   "outputs": [
    {
     "data": {
      "text/plain": [
       "3143"
      ]
     },
     "execution_count": 37,
     "metadata": {},
     "output_type": "execute_result"
    }
   ],
   "source": [
    "((chbmdf.target==0 ) & (chbmdf.protected==0 )).sum()"
   ]
  },
  {
   "cell_type": "code",
   "execution_count": 38,
   "id": "63ec969d-ed3b-4304-82d6-6c12307f2f57",
   "metadata": {},
   "outputs": [
    {
     "data": {
      "text/plain": [
       "12765"
      ]
     },
     "execution_count": 38,
     "metadata": {},
     "output_type": "execute_result"
    }
   ],
   "source": [
    "((chbmdf.target==0 ) & (chbmdf.protected==1 )).sum()"
   ]
  },
  {
   "cell_type": "code",
   "execution_count": 49,
   "id": "c52539d4-55d4-4961-bba3-5618a06de9be",
   "metadata": {},
   "outputs": [
    {
     "data": {
      "text/plain": [
       "32650"
      ]
     },
     "execution_count": 49,
     "metadata": {},
     "output_type": "execute_result"
    }
   ],
   "source": [
    "(adult_pre_df.sex==\"Male\").sum()"
   ]
  },
  {
   "cell_type": "code",
   "execution_count": 14,
   "id": "563164ea-428a-401b-9a56-2fe3cf676144",
   "metadata": {},
   "outputs": [],
   "source": [
    "adult_pre_df.replace(list(replace_countries_d.keys()), list(replace_countries_d.values()), inplace=True)\n"
   ]
  },
  {
   "cell_type": "code",
   "execution_count": 71,
   "id": "fa76cf7b-30c0-4c4e-905b-2f001d38e612",
   "metadata": {},
   "outputs": [
    {
     "name": "stdout",
     "output_type": "stream",
     "text": [
      "><=50K<\n"
     ]
    }
   ],
   "source": [
    "sa=adult_pre_df['income'][000]\n",
    "print(f\">{sa}<\")"
   ]
  },
  {
   "cell_type": "code",
   "execution_count": 16,
   "id": "2e9336ab-d69c-4494-b1b3-4ddd85602380",
   "metadata": {},
   "outputs": [],
   "source": [
    "trainrows=adult_pre_df.shape[0]"
   ]
  },
  {
   "cell_type": "code",
   "execution_count": 125,
   "id": "3ffe9bf2-e50a-4015-b75a-261f792990b0",
   "metadata": {},
   "outputs": [
    {
     "data": {
      "text/plain": [
       "(7214, 53)"
      ]
     },
     "execution_count": 125,
     "metadata": {},
     "output_type": "execute_result"
    }
   ],
   "source": [
    "r.shape"
   ]
  },
  {
   "cell_type": "code",
   "execution_count": 126,
   "id": "fe12c903-e82a-4f14-8a68-524f05224096",
   "metadata": {},
   "outputs": [
    {
     "data": {
      "text/plain": [
       "(6172, 404)"
      ]
     },
     "execution_count": 126,
     "metadata": {},
     "output_type": "execute_result"
    }
   ],
   "source": [
    "compasdf.shape"
   ]
  },
  {
   "cell_type": "code",
   "execution_count": 122,
   "id": "d5841247-1a44-4a12-955f-9d0a25169032",
   "metadata": {},
   "outputs": [
    {
     "data": {
      "text/plain": [
       "0.5508658008658008"
      ]
     },
     "execution_count": 122,
     "metadata": {},
     "output_type": "execute_result"
    }
   ],
   "source": [
    "\n"
   ]
  },
  {
   "cell_type": "code",
   "execution_count": 123,
   "id": "26b90205-b3a2-44b6-b8f7-982db52bf0a9",
   "metadata": {},
   "outputs": [
    {
     "data": {
      "text/plain": [
       "2036"
      ]
     },
     "execution_count": 123,
     "metadata": {},
     "output_type": "execute_result"
    }
   ],
   "source": [
    "(r[ (r['race']==\"African-American\")| (r['race'] == \"Af-Am\" )].is_recid).sum()"
   ]
  },
  {
   "cell_type": "code",
   "execution_count": 119,
   "id": "a2330803-76b5-4c6a-8546-5b457850574f",
   "metadata": {},
   "outputs": [
    {
     "data": {
      "text/plain": [
       "race\n",
       "African-American    3696\n",
       "Caucasian           2454\n",
       "Hispanic             637\n",
       "Other                377\n",
       "Asian                 32\n",
       "Native American       18\n",
       "Name: count, dtype: int64"
      ]
     },
     "execution_count": 119,
     "metadata": {},
     "output_type": "execute_result"
    }
   ],
   "source": [
    "r['race'].value_counts()"
   ]
  },
  {
   "cell_type": "code",
   "execution_count": 260,
   "id": "4a8e0534-daaa-484b-b002-2fbd2794aae7",
   "metadata": {},
   "outputs": [
    {
     "data": {
      "image/png": "[encoded data removed]",
      "text/plain": [
       "<Figure size 640x480 with 1 Axes>"
      ]
     },
     "metadata": {},
     "output_type": "display_data"
    },
    {
     "data": {
      "image/png": "[encoded data removed]",
      "text/plain": [
       "<Figure size 640x480 with 1 Axes>"
      ]
     },
     "metadata": {},
     "output_type": "display_data"
    },
    {
     "data": {
      "image/png": "[encoded data removed]",
      "text/plain": [
       "<Figure size 640x480 with 1 Axes>"
      ]
     },
     "metadata": {},
     "output_type": "display_data"
    },
    {
     "data": {
      "image/png": "[encoded data removed]",
      "text/plain": [
       "<Figure size 640x480 with 1 Axes>"
      ]
     },
     "metadata": {},
     "output_type": "display_data"
    },
    {
     "data": {
      "image/png": "[encoded data removed]",
      "text/plain": [
       "<Figure size 640x480 with 1 Axes>"
      ]
     },
     "metadata": {},
     "output_type": "display_data"
    }
   ],
   "source": [
    "import seaborn as sns\n",
    "import matplotlib.pyplot as plt\n",
    "sns.set_theme(style=\"whitegrid\")\n",
    "def DataDist(df, t, p, plotname=None):\n",
    "    if plotname == None:\n",
    "        try:\n",
    "           plotname = df.name\n",
    "        except:\n",
    "           plotname=\"data\"\n",
    "\n",
    "      \n",
    "    # Draw a nested barplot by species and sex\n",
    "    g = sns.countplot(\n",
    "        data=df,\n",
    "        x=t,  hue=p,\n",
    "        palette=\"dark\", alpha=.6,\n",
    "        hue_order = sorted(df[p].unique())\n",
    "    )\n",
    "    plt.title(f\"{plotname}\")\n",
    "    plt.savefig(f\"/home/user/fairlibcode/plots/{plotname}_{t}_{p}.png\".replace(' ','_').lower() )\n",
    "    plt.show()\n",
    "adult_plot.name=\"Adult\"\n",
    "bffhq_plot.name='bFFHQ'\n",
    "DataDist(adult_plot, 'income', 'sex')\n",
    "DataDist(bffhq_plot, 'Young', 'Male')\n",
    "compas_plot.name=\"Compas Processed\"\n",
    "compas_base_plot.name=\"Compas Raw\"\n",
    "DataDist(compas_plot, 'Recidivated', 'Race')\n",
    "DataDist(compas_base_plot, 'Recidivated', 'Race', \"Compas Base\")\n",
    "chbmdf_plot.name=\"CelebA\"\n",
    "DataDist(chbmdf_plot, 'Blonde', 'Male')\n",
    "#DataDist(compas_preprocess(compas_base_plot), 'Recidivated', 'Race', \"Compas_base\")"
   ]
  },
  {
   "cell_type": "code",
   "execution_count": 306,
   "id": "ad8e78f7-9dbb-4a3f-93fb-2482be14dd39",
   "metadata": {},
   "outputs": [
    {
     "data": {
      "text/plain": [
       "'images/bffhq/young_woman2.png'"
      ]
     },
     "execution_count": 306,
     "metadata": {},
     "output_type": "execute_result"
    }
   ],
   "source": [
    "c=1\n",
    "p=1\n",
    "import shutil\n",
    "\n",
    "shutil.copy( bffhq_plot[(bffhq_plot.Young==c ) & ( bffhq_plot.Male==p  )]['index'].iloc[0], \"images/bffhq/old_man1.png\")\n",
    "shutil.copy( bffhq_plot[(bffhq_plot.Young==c ) & ( bffhq_plot.Male==p  )]['index'].iloc[1], \"images/bffhq/old_man2.png\")\n",
    "c=0\n",
    "shutil.copy( bffhq_plot[(bffhq_plot.Young==c ) & ( bffhq_plot.Male==p  )]['index'].iloc[0], \"images/bffhq/young_man1.png\")\n",
    "shutil.copy( bffhq_plot[(bffhq_plot.Young==c ) & ( bffhq_plot.Male==p  )]['index'].iloc[1], \"images/bffhq/young_man2.png\")\n",
    "c=1\n",
    "p=0\n",
    "shutil.copy( bffhq_plot[(bffhq_plot.Young==c ) & ( bffhq_plot.Male==p  )]['index'].iloc[0], \"images/bffhq/old_woman1.png\")\n",
    "shutil.copy( bffhq_plot[(bffhq_plot.Young==c ) & ( bffhq_plot.Male==p  )]['index'].iloc[1], \"images/bffhq/old_woman2.png\")\n",
    "c=0\n",
    "shutil.copy( bffhq_plot[(bffhq_plot.Young==c ) & ( bffhq_plot.Male==p  )]['index'].iloc[0], \"images/bffhq/young_woman1.png\")\n",
    "shutil.copy( bffhq_plot[(bffhq_plot.Young==c ) & ( bffhq_plot.Male==p  )]['index'].iloc[1], \"images/bffhq/young_woman2.png\")\n",
    "\n",
    "\n"
   ]
  },
  {
   "cell_type": "code",
   "execution_count": 304,
   "id": "99315aa5-2cae-48bf-b835-c16fc5423b21",
   "metadata": {},
   "outputs": [
    {
     "data": {
      "text/plain": [
       "'images/celebabm/not_blonde_woman2.png'"
      ]
     },
     "execution_count": 304,
     "metadata": {},
     "output_type": "execute_result"
    }
   ],
   "source": [
    "\n",
    "c=1\n",
    "p=1\n",
    "import shutil\n",
    "base=\"/home/user//miniconda3/data/CelebAMask-HQ/CelebA-HQ-img/\"\n",
    "shutil.copy( base + chbm_widf[(chbm_widf.target==c ) & ( chbm_widf.protected==p  )].index[0], \"images/celebabm/blonde_man1.png\")\n",
    "shutil.copy( base + chbm_widf[(chbm_widf.target==c ) & ( chbm_widf.protected==p  )].index[1], \"images/celebabm/blonde_man2.png\")\n",
    "c=0\n",
    "shutil.copy( base + chbm_widf[(chbm_widf.target==c ) & ( chbm_widf.protected==p  )].index[0], \"images/celebabm/not_blonde_man1.png\")\n",
    "shutil.copy( base + chbm_widf[(chbm_widf.target==c ) & ( chbm_widf.protected==p  )].index[1], \"images/celebabm/not_blonde_man2.png\")\n",
    "c=1\n",
    "p=0\n",
    "shutil.copy( base + chbm_widf[(chbm_widf.target==c ) & ( chbm_widf.protected==p  )].index[0], \"images/celebabm/blonde_woman1.png\")\n",
    "shutil.copy( base + chbm_widf[(chbm_widf.target==c ) & ( chbm_widf.protected==p  )].index[1], \"images/celebabm/blonde_woman2.png\")\n",
    "c=0\n",
    "shutil.copy( base + chbm_widf[(chbm_widf.target==c ) & ( chbm_widf.protected==p  )].index[0], \"images/celebabm/not_blonde_woman1.png\")\n",
    "shutil.copy( base + chbm_widf[(chbm_widf.target==c ) & ( chbm_widf.protected==p  )].index[1], \"images/celebabm/not_blonde_woman2.png\")\n",
    "\n"
   ]
  },
  {
   "cell_type": "code",
   "execution_count": 303,
   "id": "95faac50-aa04-4dd3-894e-a3a32b1ce2c9",
   "metadata": {},
   "outputs": [
    {
     "data": {
      "text/html": [
       "<div>\n",
       "<style scoped>\n",
       "    .dataframe tbody tr th:only-of-type {\n",
       "        vertical-align: middle;\n",
       "    }\n",
       "\n",
       "    .dataframe tbody tr th {\n",
       "        vertical-align: top;\n",
       "    }\n",
       "\n",
       "    .dataframe thead th {\n",
       "        text-align: right;\n",
       "    }\n",
       "</style>\n",
       "<table border=\"1\" class=\"dataframe\">\n",
       "  <thead>\n",
       "    <tr style=\"text-align: right;\">\n",
       "      <th></th>\n",
       "      <th>target</th>\n",
       "      <th>protected</th>\n",
       "      <th>img_features</th>\n",
       "    </tr>\n",
       "  </thead>\n",
       "  <tbody>\n",
       "    <tr>\n",
       "      <th>193.jpg</th>\n",
       "      <td>0</td>\n",
       "      <td>0</td>\n",
       "      <td>[tensor(0.6217), tensor(1.0199), tensor(1.4065...</td>\n",
       "    </tr>\n",
       "    <tr>\n",
       "      <th>28667.jpg</th>\n",
       "      <td>0</td>\n",
       "      <td>0</td>\n",
       "      <td>[tensor(0.0110), tensor(0.8437), tensor(1.7057...</td>\n",
       "    </tr>\n",
       "    <tr>\n",
       "      <th>16302.jpg</th>\n",
       "      <td>0</td>\n",
       "      <td>0</td>\n",
       "      <td>[tensor(0.0056), tensor(0.1868), tensor(0.8607...</td>\n",
       "    </tr>\n",
       "    <tr>\n",
       "      <th>22633.jpg</th>\n",
       "      <td>0</td>\n",
       "      <td>0</td>\n",
       "      <td>[tensor(0.0019), tensor(0.4307), tensor(1.6880...</td>\n",
       "    </tr>\n",
       "    <tr>\n",
       "      <th>19070.jpg</th>\n",
       "      <td>0</td>\n",
       "      <td>0</td>\n",
       "      <td>[tensor(0.5088), tensor(0.3869), tensor(0.4342...</td>\n",
       "    </tr>\n",
       "    <tr>\n",
       "      <th>...</th>\n",
       "      <td>...</td>\n",
       "      <td>...</td>\n",
       "      <td>...</td>\n",
       "    </tr>\n",
       "    <tr>\n",
       "      <th>6191.jpg</th>\n",
       "      <td>0</td>\n",
       "      <td>0</td>\n",
       "      <td>[tensor(0.0331), tensor(0.8159), tensor(0.7929...</td>\n",
       "    </tr>\n",
       "    <tr>\n",
       "      <th>26135.jpg</th>\n",
       "      <td>0</td>\n",
       "      <td>0</td>\n",
       "      <td>[tensor(0.1064), tensor(0.4505), tensor(1.7801...</td>\n",
       "    </tr>\n",
       "    <tr>\n",
       "      <th>5686.jpg</th>\n",
       "      <td>0</td>\n",
       "      <td>0</td>\n",
       "      <td>[tensor(0.2454), tensor(1.0906), tensor(0.5761...</td>\n",
       "    </tr>\n",
       "    <tr>\n",
       "      <th>25504.jpg</th>\n",
       "      <td>0</td>\n",
       "      <td>0</td>\n",
       "      <td>[tensor(0.4950), tensor(0.5046), tensor(0.7078...</td>\n",
       "    </tr>\n",
       "    <tr>\n",
       "      <th>9299.jpg</th>\n",
       "      <td>0</td>\n",
       "      <td>0</td>\n",
       "      <td>[tensor(0.0641), tensor(0.5481), tensor(1.3612...</td>\n",
       "    </tr>\n",
       "  </tbody>\n",
       "</table>\n",
       "<p>1358 rows × 3 columns</p>\n",
       "</div>"
      ],
      "text/plain": [
       "           target  protected  \\\n",
       "193.jpg         0          0   \n",
       "28667.jpg       0          0   \n",
       "16302.jpg       0          0   \n",
       "22633.jpg       0          0   \n",
       "19070.jpg       0          0   \n",
       "...           ...        ...   \n",
       "6191.jpg        0          0   \n",
       "26135.jpg       0          0   \n",
       "5686.jpg        0          0   \n",
       "25504.jpg       0          0   \n",
       "9299.jpg        0          0   \n",
       "\n",
       "                                                img_features  \n",
       "193.jpg    [tensor(0.6217), tensor(1.0199), tensor(1.4065...  \n",
       "28667.jpg  [tensor(0.0110), tensor(0.8437), tensor(1.7057...  \n",
       "16302.jpg  [tensor(0.0056), tensor(0.1868), tensor(0.8607...  \n",
       "22633.jpg  [tensor(0.0019), tensor(0.4307), tensor(1.6880...  \n",
       "19070.jpg  [tensor(0.5088), tensor(0.3869), tensor(0.4342...  \n",
       "...                                                      ...  \n",
       "6191.jpg   [tensor(0.0331), tensor(0.8159), tensor(0.7929...  \n",
       "26135.jpg  [tensor(0.1064), tensor(0.4505), tensor(1.7801...  \n",
       "5686.jpg   [tensor(0.2454), tensor(1.0906), tensor(0.5761...  \n",
       "25504.jpg  [tensor(0.4950), tensor(0.5046), tensor(0.7078...  \n",
       "9299.jpg   [tensor(0.0641), tensor(0.5481), tensor(1.3612...  \n",
       "\n",
       "[1358 rows x 3 columns]"
      ]
     },
     "execution_count": 303,
     "metadata": {},
     "output_type": "execute_result"
    }
   ],
   "source": [
    "chbm_widf[(chbm_widf.target==c ) & ( chbm_widf.protected==p  )]"
   ]
  },
  {
   "cell_type": "code",
   "execution_count": 299,
   "id": "4f3e2c16-9cf0-4fb9-a307-4b3e5d4d2835",
   "metadata": {},
   "outputs": [
    {
     "name": "stdout",
     "output_type": "stream",
     "text": [
      "/home/user/DeepLearning/fairlibcode\n"
     ]
    }
   ],
   "source": [
    "!pwd"
   ]
  },
  {
   "cell_type": "code",
   "execution_count": 294,
   "id": "d1b7fac5-2327-481b-bcbc-24386e119bfd",
   "metadata": {},
   "outputs": [
    {
     "data": {
      "text/html": [
       "<div>\n",
       "<style scoped>\n",
       "    .dataframe tbody tr th:only-of-type {\n",
       "        vertical-align: middle;\n",
       "    }\n",
       "\n",
       "    .dataframe tbody tr th {\n",
       "        vertical-align: top;\n",
       "    }\n",
       "\n",
       "    .dataframe thead th {\n",
       "        text-align: right;\n",
       "    }\n",
       "</style>\n",
       "<table border=\"1\" class=\"dataframe\">\n",
       "  <thead>\n",
       "    <tr style=\"text-align: right;\">\n",
       "      <th></th>\n",
       "      <th>target</th>\n",
       "      <th>protected</th>\n",
       "      <th>img_features</th>\n",
       "    </tr>\n",
       "  </thead>\n",
       "  <tbody>\n",
       "    <tr>\n",
       "      <th>24993.jpg</th>\n",
       "      <td>0</td>\n",
       "      <td>1</td>\n",
       "      <td>[tensor(1.1943), tensor(0.7562), tensor(0.2506...</td>\n",
       "    </tr>\n",
       "    <tr>\n",
       "      <th>24525.jpg</th>\n",
       "      <td>0</td>\n",
       "      <td>1</td>\n",
       "      <td>[tensor(0.3095), tensor(0.6207), tensor(0.8134...</td>\n",
       "    </tr>\n",
       "    <tr>\n",
       "      <th>193.jpg</th>\n",
       "      <td>0</td>\n",
       "      <td>0</td>\n",
       "      <td>[tensor(0.6217), tensor(1.0199), tensor(1.4065...</td>\n",
       "    </tr>\n",
       "    <tr>\n",
       "      <th>28118.jpg</th>\n",
       "      <td>1</td>\n",
       "      <td>0</td>\n",
       "      <td>[tensor(0.0406), tensor(0.5291), tensor(0.8344...</td>\n",
       "    </tr>\n",
       "    <tr>\n",
       "      <th>28667.jpg</th>\n",
       "      <td>0</td>\n",
       "      <td>0</td>\n",
       "      <td>[tensor(0.0110), tensor(0.8437), tensor(1.7057...</td>\n",
       "    </tr>\n",
       "    <tr>\n",
       "      <th>...</th>\n",
       "      <td>...</td>\n",
       "      <td>...</td>\n",
       "      <td>...</td>\n",
       "    </tr>\n",
       "    <tr>\n",
       "      <th>5686.jpg</th>\n",
       "      <td>0</td>\n",
       "      <td>0</td>\n",
       "      <td>[tensor(0.2454), tensor(1.0906), tensor(0.5761...</td>\n",
       "    </tr>\n",
       "    <tr>\n",
       "      <th>4133.jpg</th>\n",
       "      <td>1</td>\n",
       "      <td>0</td>\n",
       "      <td>[tensor(0.0643), tensor(1.8824), tensor(1.6099...</td>\n",
       "    </tr>\n",
       "    <tr>\n",
       "      <th>3367.jpg</th>\n",
       "      <td>0</td>\n",
       "      <td>1</td>\n",
       "      <td>[tensor(0.2395), tensor(0.6454), tensor(0.7962...</td>\n",
       "    </tr>\n",
       "    <tr>\n",
       "      <th>25504.jpg</th>\n",
       "      <td>0</td>\n",
       "      <td>0</td>\n",
       "      <td>[tensor(0.4950), tensor(0.5046), tensor(0.7078...</td>\n",
       "    </tr>\n",
       "    <tr>\n",
       "      <th>9299.jpg</th>\n",
       "      <td>0</td>\n",
       "      <td>0</td>\n",
       "      <td>[tensor(0.0641), tensor(0.5481), tensor(1.3612...</td>\n",
       "    </tr>\n",
       "  </tbody>\n",
       "</table>\n",
       "<p>3000 rows × 3 columns</p>\n",
       "</div>"
      ],
      "text/plain": [
       "           target  protected  \\\n",
       "24993.jpg       0          1   \n",
       "24525.jpg       0          1   \n",
       "193.jpg         0          0   \n",
       "28118.jpg       1          0   \n",
       "28667.jpg       0          0   \n",
       "...           ...        ...   \n",
       "5686.jpg        0          0   \n",
       "4133.jpg        1          0   \n",
       "3367.jpg        0          1   \n",
       "25504.jpg       0          0   \n",
       "9299.jpg        0          0   \n",
       "\n",
       "                                                img_features  \n",
       "24993.jpg  [tensor(1.1943), tensor(0.7562), tensor(0.2506...  \n",
       "24525.jpg  [tensor(0.3095), tensor(0.6207), tensor(0.8134...  \n",
       "193.jpg    [tensor(0.6217), tensor(1.0199), tensor(1.4065...  \n",
       "28118.jpg  [tensor(0.0406), tensor(0.5291), tensor(0.8344...  \n",
       "28667.jpg  [tensor(0.0110), tensor(0.8437), tensor(1.7057...  \n",
       "...                                                      ...  \n",
       "5686.jpg   [tensor(0.2454), tensor(1.0906), tensor(0.5761...  \n",
       "4133.jpg   [tensor(0.0643), tensor(1.8824), tensor(1.6099...  \n",
       "3367.jpg   [tensor(0.2395), tensor(0.6454), tensor(0.7962...  \n",
       "25504.jpg  [tensor(0.4950), tensor(0.5046), tensor(0.7078...  \n",
       "9299.jpg   [tensor(0.0641), tensor(0.5481), tensor(1.3612...  \n",
       "\n",
       "[3000 rows x 3 columns]"
      ]
     },
     "execution_count": 294,
     "metadata": {},
     "output_type": "execute_result"
    }
   ],
   "source": [
    "chbm_widf"
   ]
  },
  {
   "cell_type": "code",
   "execution_count": 281,
   "id": "7e8ffb22-d3c7-4a98-a97b-c087db2a8a90",
   "metadata": {},
   "outputs": [
    {
     "name": "stdout",
     "output_type": "stream",
     "text": [
      "/home/user/DeepLearning/fairlibcode\n"
     ]
    }
   ],
   "source": []
  },
  {
   "cell_type": "code",
   "execution_count": 273,
   "id": "d67c0a2a-07c0-431f-a3b9-e39dd99fa05c",
   "metadata": {},
   "outputs": [
    {
     "name": "stdout",
     "output_type": "stream",
     "text": [
      "workclass & fnlwgt & education \\\\\n",
      "education-num & marital-status & occupation \\\\\n",
      "relationship & capital-gain & capital-loss \\\\\n",
      "hours-per-week & native-country & income \\\\\n"
     ]
    }
   ],
   "source": [
    "count=0\n",
    "for z in filter (lambda x: x != 'age' and x!= \"sex\" and x!= \"race\", (adult_plot.columns)):\n",
    "    \n",
    "    print (z, end='')\n",
    "    count+=1\n",
    "    if count==3:\n",
    "        print (' \\\\\\\\')\n",
    "        count=0\n",
    "    else: print( ' & ',end='')"
   ]
  },
  {
   "cell_type": "code",
   "execution_count": 256,
   "id": "db1982d9-1a48-4cfa-b748-d3770fc1ce9b",
   "metadata": {},
   "outputs": [
    {
     "data": {
      "text/html": [
       "<div>\n",
       "<style scoped>\n",
       "    .dataframe tbody tr th:only-of-type {\n",
       "        vertical-align: middle;\n",
       "    }\n",
       "\n",
       "    .dataframe tbody tr th {\n",
       "        vertical-align: top;\n",
       "    }\n",
       "\n",
       "    .dataframe thead th {\n",
       "        text-align: right;\n",
       "    }\n",
       "</style>\n",
       "<table border=\"1\" class=\"dataframe\">\n",
       "  <thead>\n",
       "    <tr style=\"text-align: right;\">\n",
       "      <th></th>\n",
       "      <th>target</th>\n",
       "      <th>protected</th>\n",
       "      <th>img_features</th>\n",
       "    </tr>\n",
       "  </thead>\n",
       "  <tbody>\n",
       "    <tr>\n",
       "      <th>0</th>\n",
       "      <td>0</td>\n",
       "      <td>1</td>\n",
       "      <td>[tensor(1.1943), tensor(0.7562), tensor(0.2506...</td>\n",
       "    </tr>\n",
       "    <tr>\n",
       "      <th>1</th>\n",
       "      <td>0</td>\n",
       "      <td>0</td>\n",
       "      <td>[tensor(0.3095), tensor(0.6207), tensor(0.8134...</td>\n",
       "    </tr>\n",
       "    <tr>\n",
       "      <th>2</th>\n",
       "      <td>1</td>\n",
       "      <td>1</td>\n",
       "      <td>[tensor(0.6217), tensor(1.0199), tensor(1.4065...</td>\n",
       "    </tr>\n",
       "    <tr>\n",
       "      <th>3</th>\n",
       "      <td>1</td>\n",
       "      <td>1</td>\n",
       "      <td>[tensor(0.0406), tensor(0.5291), tensor(0.8344...</td>\n",
       "    </tr>\n",
       "    <tr>\n",
       "      <th>4</th>\n",
       "      <td>0</td>\n",
       "      <td>1</td>\n",
       "      <td>[tensor(0.0110), tensor(0.8437), tensor(1.7057...</td>\n",
       "    </tr>\n",
       "    <tr>\n",
       "      <th>...</th>\n",
       "      <td>...</td>\n",
       "      <td>...</td>\n",
       "      <td>...</td>\n",
       "    </tr>\n",
       "    <tr>\n",
       "      <th>29995</th>\n",
       "      <td>1</td>\n",
       "      <td>1</td>\n",
       "      <td>[tensor(0.4005), tensor(0.1340), tensor(0.5668...</td>\n",
       "    </tr>\n",
       "    <tr>\n",
       "      <th>29996</th>\n",
       "      <td>0</td>\n",
       "      <td>0</td>\n",
       "      <td>[tensor(0.6060), tensor(1.5699), tensor(0.5584...</td>\n",
       "    </tr>\n",
       "    <tr>\n",
       "      <th>29997</th>\n",
       "      <td>0</td>\n",
       "      <td>1</td>\n",
       "      <td>[tensor(0.1037), tensor(0.7122), tensor(0.4774...</td>\n",
       "    </tr>\n",
       "    <tr>\n",
       "      <th>29998</th>\n",
       "      <td>1</td>\n",
       "      <td>1</td>\n",
       "      <td>[tensor(0.0196), tensor(1.4551), tensor(0.9277...</td>\n",
       "    </tr>\n",
       "    <tr>\n",
       "      <th>29999</th>\n",
       "      <td>0</td>\n",
       "      <td>1</td>\n",
       "      <td>[tensor(1.2497), tensor(0.3075), tensor(0.5272...</td>\n",
       "    </tr>\n",
       "  </tbody>\n",
       "</table>\n",
       "<p>30000 rows × 3 columns</p>\n",
       "</div>"
      ],
      "text/plain": [
       "       target  protected                                       img_features\n",
       "0           0          1  [tensor(1.1943), tensor(0.7562), tensor(0.2506...\n",
       "1           0          0  [tensor(0.3095), tensor(0.6207), tensor(0.8134...\n",
       "2           1          1  [tensor(0.6217), tensor(1.0199), tensor(1.4065...\n",
       "3           1          1  [tensor(0.0406), tensor(0.5291), tensor(0.8344...\n",
       "4           0          1  [tensor(0.0110), tensor(0.8437), tensor(1.7057...\n",
       "...       ...        ...                                                ...\n",
       "29995       1          1  [tensor(0.4005), tensor(0.1340), tensor(0.5668...\n",
       "29996       0          0  [tensor(0.6060), tensor(1.5699), tensor(0.5584...\n",
       "29997       0          1  [tensor(0.1037), tensor(0.7122), tensor(0.4774...\n",
       "29998       1          1  [tensor(0.0196), tensor(1.4551), tensor(0.9277...\n",
       "29999       0          1  [tensor(1.2497), tensor(0.3075), tensor(0.5272...\n",
       "\n",
       "[30000 rows x 3 columns]"
      ]
     },
     "execution_count": 256,
     "metadata": {},
     "output_type": "execute_result"
    }
   ],
   "source": [
    "chbmdf_plot"
   ]
  },
  {
   "cell_type": "code",
   "execution_count": 213,
   "id": "2df633aa-5c22-4830-ba45-accd45f7ad31",
   "metadata": {},
   "outputs": [
    {
     "data": {
      "text/plain": [
       "Recidivated\n",
       "1    3182\n",
       "0    2990\n",
       "Name: count, dtype: int64"
      ]
     },
     "execution_count": 213,
     "metadata": {},
     "output_type": "execute_result"
    }
   ],
   "source": [
    "compas_plot.Recidivated.value_counts()"
   ]
  },
  {
   "cell_type": "code",
   "execution_count": 214,
   "id": "0073333d-cf54-4820-a67f-7ae1170cae00",
   "metadata": {},
   "outputs": [],
   "source": [
    "compas_plot_old=compas_plot"
   ]
  },
  {
   "cell_type": "code",
   "execution_count": 211,
   "id": "85cb8532-2cc3-4cb6-bb4f-6385d37f02a2",
   "metadata": {},
   "outputs": [],
   "source": [
    "import os \n",
    "compas_plot.to_pickle(os.path.join(\"compas_old.pkl\"))"
   ]
  },
  {
   "cell_type": "code",
   "execution_count": 212,
   "id": "75e561b3-901c-4734-994c-670fcf765e98",
   "metadata": {},
   "outputs": [
    {
     "name": "stdout",
     "output_type": "stream",
     "text": [
      "/home/user/DeepLearning/fairlibcode\n"
     ]
    }
   ],
   "source": [
    "!pwd"
   ]
  },
  {
   "cell_type": "code",
   "execution_count": 192,
   "id": "c73a1b0d-2549-49a2-b3e4-9a0048c03dee",
   "metadata": {},
   "outputs": [
    {
     "data": {
      "text/html": [
       "<div>\n",
       "<style scoped>\n",
       "    .dataframe tbody tr th:only-of-type {\n",
       "        vertical-align: middle;\n",
       "    }\n",
       "\n",
       "    .dataframe tbody tr th {\n",
       "        vertical-align: top;\n",
       "    }\n",
       "\n",
       "    .dataframe thead th {\n",
       "        text-align: right;\n",
       "    }\n",
       "</style>\n",
       "<table border=\"1\" class=\"dataframe\">\n",
       "  <thead>\n",
       "    <tr style=\"text-align: right;\">\n",
       "      <th></th>\n",
       "      <th>age</th>\n",
       "      <th>workclass</th>\n",
       "      <th>fnlwgt</th>\n",
       "      <th>education</th>\n",
       "      <th>education-num</th>\n",
       "      <th>marital-status</th>\n",
       "      <th>occupation</th>\n",
       "      <th>relationship</th>\n",
       "      <th>race</th>\n",
       "      <th>sex</th>\n",
       "      <th>capital-gain</th>\n",
       "      <th>capital-loss</th>\n",
       "      <th>hours-per-week</th>\n",
       "      <th>native-country</th>\n",
       "      <th>income</th>\n",
       "    </tr>\n",
       "  </thead>\n",
       "  <tbody>\n",
       "    <tr>\n",
       "      <th>0</th>\n",
       "      <td>39</td>\n",
       "      <td>State-gov</td>\n",
       "      <td>77516.0</td>\n",
       "      <td>Bachelors</td>\n",
       "      <td>13.0</td>\n",
       "      <td>Never-married</td>\n",
       "      <td>Adm-clerical</td>\n",
       "      <td>Not-in-family</td>\n",
       "      <td>White</td>\n",
       "      <td>Male</td>\n",
       "      <td>2174.0</td>\n",
       "      <td>0.0</td>\n",
       "      <td>40.0</td>\n",
       "      <td>United-States</td>\n",
       "      <td>&lt;=50K</td>\n",
       "    </tr>\n",
       "    <tr>\n",
       "      <th>1</th>\n",
       "      <td>50</td>\n",
       "      <td>Self-emp-not-inc</td>\n",
       "      <td>83311.0</td>\n",
       "      <td>Bachelors</td>\n",
       "      <td>13.0</td>\n",
       "      <td>Married-civ-spouse</td>\n",
       "      <td>Exec-managerial</td>\n",
       "      <td>Husband</td>\n",
       "      <td>White</td>\n",
       "      <td>Male</td>\n",
       "      <td>0.0</td>\n",
       "      <td>0.0</td>\n",
       "      <td>13.0</td>\n",
       "      <td>United-States</td>\n",
       "      <td>&lt;=50K</td>\n",
       "    </tr>\n",
       "    <tr>\n",
       "      <th>2</th>\n",
       "      <td>38</td>\n",
       "      <td>Private</td>\n",
       "      <td>215646.0</td>\n",
       "      <td>HS-grad</td>\n",
       "      <td>9.0</td>\n",
       "      <td>Divorced</td>\n",
       "      <td>Handlers-cleaners</td>\n",
       "      <td>Not-in-family</td>\n",
       "      <td>White</td>\n",
       "      <td>Male</td>\n",
       "      <td>0.0</td>\n",
       "      <td>0.0</td>\n",
       "      <td>40.0</td>\n",
       "      <td>United-States</td>\n",
       "      <td>&lt;=50K</td>\n",
       "    </tr>\n",
       "    <tr>\n",
       "      <th>3</th>\n",
       "      <td>53</td>\n",
       "      <td>Private</td>\n",
       "      <td>234721.0</td>\n",
       "      <td>11th</td>\n",
       "      <td>7.0</td>\n",
       "      <td>Married-civ-spouse</td>\n",
       "      <td>Handlers-cleaners</td>\n",
       "      <td>Husband</td>\n",
       "      <td>Black</td>\n",
       "      <td>Male</td>\n",
       "      <td>0.0</td>\n",
       "      <td>0.0</td>\n",
       "      <td>40.0</td>\n",
       "      <td>United-States</td>\n",
       "      <td>&lt;=50K</td>\n",
       "    </tr>\n",
       "    <tr>\n",
       "      <th>4</th>\n",
       "      <td>28</td>\n",
       "      <td>Private</td>\n",
       "      <td>338409.0</td>\n",
       "      <td>Bachelors</td>\n",
       "      <td>13.0</td>\n",
       "      <td>Married-civ-spouse</td>\n",
       "      <td>Prof-specialty</td>\n",
       "      <td>Wife</td>\n",
       "      <td>Black</td>\n",
       "      <td>Female</td>\n",
       "      <td>0.0</td>\n",
       "      <td>0.0</td>\n",
       "      <td>40.0</td>\n",
       "      <td>Cuba</td>\n",
       "      <td>&lt;=50K</td>\n",
       "    </tr>\n",
       "    <tr>\n",
       "      <th>...</th>\n",
       "      <td>...</td>\n",
       "      <td>...</td>\n",
       "      <td>...</td>\n",
       "      <td>...</td>\n",
       "      <td>...</td>\n",
       "      <td>...</td>\n",
       "      <td>...</td>\n",
       "      <td>...</td>\n",
       "      <td>...</td>\n",
       "      <td>...</td>\n",
       "      <td>...</td>\n",
       "      <td>...</td>\n",
       "      <td>...</td>\n",
       "      <td>...</td>\n",
       "      <td>...</td>\n",
       "    </tr>\n",
       "    <tr>\n",
       "      <th>48838</th>\n",
       "      <td>39</td>\n",
       "      <td>Private</td>\n",
       "      <td>215419.0</td>\n",
       "      <td>Bachelors</td>\n",
       "      <td>13.0</td>\n",
       "      <td>Divorced</td>\n",
       "      <td>Prof-specialty</td>\n",
       "      <td>Not-in-family</td>\n",
       "      <td>White</td>\n",
       "      <td>Female</td>\n",
       "      <td>0.0</td>\n",
       "      <td>0.0</td>\n",
       "      <td>36.0</td>\n",
       "      <td>United-States</td>\n",
       "      <td>&lt;=50K</td>\n",
       "    </tr>\n",
       "    <tr>\n",
       "      <th>48839</th>\n",
       "      <td>64</td>\n",
       "      <td>?</td>\n",
       "      <td>321403.0</td>\n",
       "      <td>HS-grad</td>\n",
       "      <td>9.0</td>\n",
       "      <td>Widowed</td>\n",
       "      <td>?</td>\n",
       "      <td>Other-relative</td>\n",
       "      <td>Black</td>\n",
       "      <td>Male</td>\n",
       "      <td>0.0</td>\n",
       "      <td>0.0</td>\n",
       "      <td>40.0</td>\n",
       "      <td>United-States</td>\n",
       "      <td>&lt;=50K</td>\n",
       "    </tr>\n",
       "    <tr>\n",
       "      <th>48840</th>\n",
       "      <td>38</td>\n",
       "      <td>Private</td>\n",
       "      <td>374983.0</td>\n",
       "      <td>Bachelors</td>\n",
       "      <td>13.0</td>\n",
       "      <td>Married-civ-spouse</td>\n",
       "      <td>Prof-specialty</td>\n",
       "      <td>Husband</td>\n",
       "      <td>White</td>\n",
       "      <td>Male</td>\n",
       "      <td>0.0</td>\n",
       "      <td>0.0</td>\n",
       "      <td>50.0</td>\n",
       "      <td>United-States</td>\n",
       "      <td>&lt;=50K</td>\n",
       "    </tr>\n",
       "    <tr>\n",
       "      <th>48841</th>\n",
       "      <td>44</td>\n",
       "      <td>Private</td>\n",
       "      <td>83891.0</td>\n",
       "      <td>Bachelors</td>\n",
       "      <td>13.0</td>\n",
       "      <td>Divorced</td>\n",
       "      <td>Adm-clerical</td>\n",
       "      <td>Own-child</td>\n",
       "      <td>Asian-Pac-Islander</td>\n",
       "      <td>Male</td>\n",
       "      <td>5455.0</td>\n",
       "      <td>0.0</td>\n",
       "      <td>40.0</td>\n",
       "      <td>United-States</td>\n",
       "      <td>&lt;=50K</td>\n",
       "    </tr>\n",
       "    <tr>\n",
       "      <th>48842</th>\n",
       "      <td>35</td>\n",
       "      <td>Self-emp-inc</td>\n",
       "      <td>182148.0</td>\n",
       "      <td>Bachelors</td>\n",
       "      <td>13.0</td>\n",
       "      <td>Married-civ-spouse</td>\n",
       "      <td>Exec-managerial</td>\n",
       "      <td>Husband</td>\n",
       "      <td>White</td>\n",
       "      <td>Male</td>\n",
       "      <td>0.0</td>\n",
       "      <td>0.0</td>\n",
       "      <td>60.0</td>\n",
       "      <td>United-States</td>\n",
       "      <td>&gt;50K</td>\n",
       "    </tr>\n",
       "  </tbody>\n",
       "</table>\n",
       "<p>48842 rows × 15 columns</p>\n",
       "</div>"
      ],
      "text/plain": [
       "      age         workclass    fnlwgt  education  education-num  \\\n",
       "0      39         State-gov   77516.0  Bachelors           13.0   \n",
       "1      50  Self-emp-not-inc   83311.0  Bachelors           13.0   \n",
       "2      38           Private  215646.0    HS-grad            9.0   \n",
       "3      53           Private  234721.0       11th            7.0   \n",
       "4      28           Private  338409.0  Bachelors           13.0   \n",
       "...    ..               ...       ...        ...            ...   \n",
       "48838  39           Private  215419.0  Bachelors           13.0   \n",
       "48839  64                 ?  321403.0    HS-grad            9.0   \n",
       "48840  38           Private  374983.0  Bachelors           13.0   \n",
       "48841  44           Private   83891.0  Bachelors           13.0   \n",
       "48842  35      Self-emp-inc  182148.0  Bachelors           13.0   \n",
       "\n",
       "           marital-status         occupation    relationship  \\\n",
       "0           Never-married       Adm-clerical   Not-in-family   \n",
       "1      Married-civ-spouse    Exec-managerial         Husband   \n",
       "2                Divorced  Handlers-cleaners   Not-in-family   \n",
       "3      Married-civ-spouse  Handlers-cleaners         Husband   \n",
       "4      Married-civ-spouse     Prof-specialty            Wife   \n",
       "...                   ...                ...             ...   \n",
       "48838            Divorced     Prof-specialty   Not-in-family   \n",
       "48839             Widowed                  ?  Other-relative   \n",
       "48840  Married-civ-spouse     Prof-specialty         Husband   \n",
       "48841            Divorced       Adm-clerical       Own-child   \n",
       "48842  Married-civ-spouse    Exec-managerial         Husband   \n",
       "\n",
       "                     race     sex  capital-gain  capital-loss  hours-per-week  \\\n",
       "0                   White    Male        2174.0           0.0            40.0   \n",
       "1                   White    Male           0.0           0.0            13.0   \n",
       "2                   White    Male           0.0           0.0            40.0   \n",
       "3                   Black    Male           0.0           0.0            40.0   \n",
       "4                   Black  Female           0.0           0.0            40.0   \n",
       "...                   ...     ...           ...           ...             ...   \n",
       "48838               White  Female           0.0           0.0            36.0   \n",
       "48839               Black    Male           0.0           0.0            40.0   \n",
       "48840               White    Male           0.0           0.0            50.0   \n",
       "48841  Asian-Pac-Islander    Male        5455.0           0.0            40.0   \n",
       "48842               White    Male           0.0           0.0            60.0   \n",
       "\n",
       "      native-country income  \n",
       "0      United-States  <=50K  \n",
       "1      United-States  <=50K  \n",
       "2      United-States  <=50K  \n",
       "3      United-States  <=50K  \n",
       "4               Cuba  <=50K  \n",
       "...              ...    ...  \n",
       "48838  United-States  <=50K  \n",
       "48839  United-States  <=50K  \n",
       "48840  United-States  <=50K  \n",
       "48841  United-States  <=50K  \n",
       "48842  United-States   >50K  \n",
       "\n",
       "[48842 rows x 15 columns]"
      ]
     },
     "execution_count": 192,
     "metadata": {},
     "output_type": "execute_result"
    }
   ],
   "source": [
    "adult_plot.dropna(subset='sex')"
   ]
  },
  {
   "cell_type": "code",
   "execution_count": 189,
   "id": "2165a024-2382-4195-86d2-b460dd0b6ffd",
   "metadata": {},
   "outputs": [
    {
     "data": {
      "text/html": [
       "<div>\n",
       "<style scoped>\n",
       "    .dataframe tbody tr th:only-of-type {\n",
       "        vertical-align: middle;\n",
       "    }\n",
       "\n",
       "    .dataframe tbody tr th {\n",
       "        vertical-align: top;\n",
       "    }\n",
       "\n",
       "    .dataframe thead th {\n",
       "        text-align: right;\n",
       "    }\n",
       "</style>\n",
       "<table border=\"1\" class=\"dataframe\">\n",
       "  <thead>\n",
       "    <tr style=\"text-align: right;\">\n",
       "      <th></th>\n",
       "      <th>age</th>\n",
       "      <th>workclass</th>\n",
       "      <th>fnlwgt</th>\n",
       "      <th>education</th>\n",
       "      <th>education-num</th>\n",
       "      <th>marital-status</th>\n",
       "      <th>occupation</th>\n",
       "      <th>relationship</th>\n",
       "      <th>race</th>\n",
       "      <th>sex</th>\n",
       "      <th>capital-gain</th>\n",
       "      <th>capital-loss</th>\n",
       "      <th>hours-per-week</th>\n",
       "      <th>native-country</th>\n",
       "      <th>income</th>\n",
       "    </tr>\n",
       "  </thead>\n",
       "  <tbody>\n",
       "  </tbody>\n",
       "</table>\n",
       "</div>"
      ],
      "text/plain": [
       "Empty DataFrame\n",
       "Columns: [age, workclass, fnlwgt, education, education-num, marital-status, occupation, relationship, race, sex, capital-gain, capital-loss, hours-per-week, native-country, income]\n",
       "Index: []"
      ]
     },
     "execution_count": 189,
     "metadata": {},
     "output_type": "execute_result"
    }
   ],
   "source": [
    "adult_plot[adult_plot['sex'].isna()]"
   ]
  },
  {
   "cell_type": "code",
   "execution_count": 179,
   "id": "f03196ca-8656-4001-9961-031f4befb2e0",
   "metadata": {},
   "outputs": [
    {
     "data": {
      "text/plain": [
       "['Black', 'Other', 'White']"
      ]
     },
     "execution_count": 179,
     "metadata": {},
     "output_type": "execute_result"
    }
   ],
   "source": []
  },
  {
   "cell_type": "code",
   "execution_count": 87,
   "id": "c986d961-e854-44ac-b0b2-199bde49f449",
   "metadata": {},
   "outputs": [
    {
     "data": {
      "text/html": [
       "<div>\n",
       "<style scoped>\n",
       "    .dataframe tbody tr th:only-of-type {\n",
       "        vertical-align: middle;\n",
       "    }\n",
       "\n",
       "    .dataframe tbody tr th {\n",
       "        vertical-align: top;\n",
       "    }\n",
       "\n",
       "    .dataframe thead th {\n",
       "        text-align: right;\n",
       "    }\n",
       "</style>\n",
       "<table border=\"1\" class=\"dataframe\">\n",
       "  <thead>\n",
       "    <tr style=\"text-align: right;\">\n",
       "      <th></th>\n",
       "      <th>g</th>\n",
       "      <th>p</th>\n",
       "      <th>text</th>\n",
       "      <th>start</th>\n",
       "      <th>hard_text</th>\n",
       "      <th>hard_text_untokenized</th>\n",
       "      <th>text_without_gender</th>\n",
       "      <th>bert_avg_SE</th>\n",
       "      <th>bert_cls_SE</th>\n",
       "      <th>gender_class</th>\n",
       "      <th>profession_class</th>\n",
       "    </tr>\n",
       "  </thead>\n",
       "  <tbody>\n",
       "    <tr>\n",
       "      <th>0</th>\n",
       "      <td>m</td>\n",
       "      <td>surgeon</td>\n",
       "      <td>Joel E. Holman, MD is a practicing Orthopedic ...</td>\n",
       "      <td>67</td>\n",
       "      <td>Dr. Holman graduated from Drexel University Co...</td>\n",
       "      <td>Dr. Holman graduated from Drexel University Co...</td>\n",
       "      <td>Dr. _ graduated from Drexel University College...</td>\n",
       "      <td>[0.035273608, -0.17930578, 0.5570778, -0.01802...</td>\n",
       "      <td>[-0.719167, 0.2811058, -0.0133525105, 0.584885...</td>\n",
       "      <td>0</td>\n",
       "      <td>25</td>\n",
       "    </tr>\n",
       "    <tr>\n",
       "      <th>1</th>\n",
       "      <td>m</td>\n",
       "      <td>professor</td>\n",
       "      <td>Jordache A. Ellapen is an Assistant Professor ...</td>\n",
       "      <td>247</td>\n",
       "      <td>His research interests focus primarily on the ...</td>\n",
       "      <td>His research interests focus primarily on the ...</td>\n",
       "      <td>_ research interests focus primarily on the in...</td>\n",
       "      <td>[-0.039646935, -0.059016034, 0.383483, -0.0436...</td>\n",
       "      <td>[-0.71114326, 0.2616684, -0.14193915, 0.569038...</td>\n",
       "      <td>0</td>\n",
       "      <td>21</td>\n",
       "    </tr>\n",
       "    <tr>\n",
       "      <th>2</th>\n",
       "      <td>f</td>\n",
       "      <td>journalist</td>\n",
       "      <td>Julia Lauter is an independent journalist base...</td>\n",
       "      <td>59</td>\n",
       "      <td>She has worked for various newspapers and maga...</td>\n",
       "      <td>She has worked for various newspapers and maga...</td>\n",
       "      <td>_ has worked for various newspapers and magazi...</td>\n",
       "      <td>[-0.039010823, -0.057761755, 0.38003385, -0.02...</td>\n",
       "      <td>[-0.9909975, 0.0029073574, -0.19598703, 0.1440...</td>\n",
       "      <td>1</td>\n",
       "      <td>11</td>\n",
       "    </tr>\n",
       "    <tr>\n",
       "      <th>3</th>\n",
       "      <td>m</td>\n",
       "      <td>professor</td>\n",
       "      <td>Fredrik Wikström is an Associate Professor in ...</td>\n",
       "      <td>100</td>\n",
       "      <td>His research encompasses a wide range of susta...</td>\n",
       "      <td>His research encompasses a wide range of susta...</td>\n",
       "      <td>_ research encompasses a wide range of sustain...</td>\n",
       "      <td>[-0.10064371, 0.2310131, 0.12148693, -0.158708...</td>\n",
       "      <td>[-0.3076348, 0.562288, -0.71838754, -1.0793735...</td>\n",
       "      <td>0</td>\n",
       "      <td>21</td>\n",
       "    </tr>\n",
       "    <tr>\n",
       "      <th>4</th>\n",
       "      <td>m</td>\n",
       "      <td>surgeon</td>\n",
       "      <td>Maher J. Bahu, MD is a practicing Orthopedic S...</td>\n",
       "      <td>77</td>\n",
       "      <td>He completed a residency at McLaren Regional M...</td>\n",
       "      <td>He completed a residency at McLaren Regional M...</td>\n",
       "      <td>_ completed a residency at McLaren Regional Me...</td>\n",
       "      <td>[-0.20923162, 0.40039727, 0.1665514, -0.251581...</td>\n",
       "      <td>[-0.31785777, 0.06298661, -0.43526924, -0.1298...</td>\n",
       "      <td>0</td>\n",
       "      <td>25</td>\n",
       "    </tr>\n",
       "    <tr>\n",
       "      <th>...</th>\n",
       "      <td>...</td>\n",
       "      <td>...</td>\n",
       "      <td>...</td>\n",
       "      <td>...</td>\n",
       "      <td>...</td>\n",
       "      <td>...</td>\n",
       "      <td>...</td>\n",
       "      <td>...</td>\n",
       "      <td>...</td>\n",
       "      <td>...</td>\n",
       "      <td>...</td>\n",
       "    </tr>\n",
       "    <tr>\n",
       "      <th>393418</th>\n",
       "      <td>m</td>\n",
       "      <td>psychologist</td>\n",
       "      <td>Joe Bavonese, PhD is a Licensed Psychologist i...</td>\n",
       "      <td>57</td>\n",
       "      <td>Joe is the Founder and Director of the Relatio...</td>\n",
       "      <td>Joe is the Founder and Director of the Relatio...</td>\n",
       "      <td>_ is the Founder and Director of the Relations...</td>\n",
       "      <td>[-0.14889559, -0.035120655, 0.4101979, -0.0067...</td>\n",
       "      <td>[-0.8050291, 0.26285714, -0.3695802, 0.4540420...</td>\n",
       "      <td>0</td>\n",
       "      <td>22</td>\n",
       "    </tr>\n",
       "    <tr>\n",
       "      <th>393419</th>\n",
       "      <td>f</td>\n",
       "      <td>teacher</td>\n",
       "      <td>Julia Stacey is a paraprofessional teacher at ...</td>\n",
       "      <td>50</td>\n",
       "      <td>She graduated from Hawaii Pacific University w...</td>\n",
       "      <td>She graduated from Hawaii Pacific University w...</td>\n",
       "      <td>_ graduated from Hawaii Pacific University wit...</td>\n",
       "      <td>[-0.1313308, -0.06082485, 0.28147125, -0.07479...</td>\n",
       "      <td>[-0.44111663, -0.1395795, -0.23112196, 0.16685...</td>\n",
       "      <td>1</td>\n",
       "      <td>26</td>\n",
       "    </tr>\n",
       "    <tr>\n",
       "      <th>393420</th>\n",
       "      <td>f</td>\n",
       "      <td>teacher</td>\n",
       "      <td>Mariam Noronha is a teacher with over nine yea...</td>\n",
       "      <td>72</td>\n",
       "      <td>She has taught a wide range of management rela...</td>\n",
       "      <td>She has taught a wide range of management rela...</td>\n",
       "      <td>_ has taught a wide range of management relate...</td>\n",
       "      <td>[-0.016473815, 0.17649534, 0.40024486, -0.1965...</td>\n",
       "      <td>[-0.84612274, -0.0444537, -0.23236755, -0.0751...</td>\n",
       "      <td>1</td>\n",
       "      <td>26</td>\n",
       "    </tr>\n",
       "    <tr>\n",
       "      <th>393421</th>\n",
       "      <td>m</td>\n",
       "      <td>surgeon</td>\n",
       "      <td>Dr. John Silverton is a leading plastic surgeo...</td>\n",
       "      <td>129</td>\n",
       "      <td>Over the decades , he has treated numerous ind...</td>\n",
       "      <td>Over the decades, he has treated numerous indi...</td>\n",
       "      <td>Over the decades, _ has treated numerous indiv...</td>\n",
       "      <td>[0.13210256, -0.12660283, 0.5385441, -0.037862...</td>\n",
       "      <td>[-0.59496754, 0.33247203, -0.06132424, 0.52261...</td>\n",
       "      <td>0</td>\n",
       "      <td>25</td>\n",
       "    </tr>\n",
       "    <tr>\n",
       "      <th>393422</th>\n",
       "      <td>f</td>\n",
       "      <td>psychologist</td>\n",
       "      <td>Dr. Kelly Bowers is a licensed psychologist. S...</td>\n",
       "      <td>44</td>\n",
       "      <td>She received her Ph.D. in Counseling Psycholog...</td>\n",
       "      <td>She received her Ph.D. in Counseling Psycholog...</td>\n",
       "      <td>_ received _ Ph.D. in Counseling Psychology fr...</td>\n",
       "      <td>[-0.63301843, 0.037911694, -0.057858523, -0.25...</td>\n",
       "      <td>[-1.1529932, -0.34592614, -0.7528168, -0.04147...</td>\n",
       "      <td>1</td>\n",
       "      <td>22</td>\n",
       "    </tr>\n",
       "  </tbody>\n",
       "</table>\n",
       "<p>393423 rows × 11 columns</p>\n",
       "</div>"
      ],
      "text/plain": [
       "        g             p                                               text  \\\n",
       "0       m       surgeon  Joel E. Holman, MD is a practicing Orthopedic ...   \n",
       "1       m     professor  Jordache A. Ellapen is an Assistant Professor ...   \n",
       "2       f    journalist  Julia Lauter is an independent journalist base...   \n",
       "3       m     professor  Fredrik Wikström is an Associate Professor in ...   \n",
       "4       m       surgeon  Maher J. Bahu, MD is a practicing Orthopedic S...   \n",
       "...    ..           ...                                                ...   \n",
       "393418  m  psychologist  Joe Bavonese, PhD is a Licensed Psychologist i...   \n",
       "393419  f       teacher  Julia Stacey is a paraprofessional teacher at ...   \n",
       "393420  f       teacher  Mariam Noronha is a teacher with over nine yea...   \n",
       "393421  m       surgeon  Dr. John Silverton is a leading plastic surgeo...   \n",
       "393422  f  psychologist  Dr. Kelly Bowers is a licensed psychologist. S...   \n",
       "\n",
       "        start                                          hard_text  \\\n",
       "0          67  Dr. Holman graduated from Drexel University Co...   \n",
       "1         247  His research interests focus primarily on the ...   \n",
       "2          59  She has worked for various newspapers and maga...   \n",
       "3         100  His research encompasses a wide range of susta...   \n",
       "4          77  He completed a residency at McLaren Regional M...   \n",
       "...       ...                                                ...   \n",
       "393418     57  Joe is the Founder and Director of the Relatio...   \n",
       "393419     50  She graduated from Hawaii Pacific University w...   \n",
       "393420     72  She has taught a wide range of management rela...   \n",
       "393421    129  Over the decades , he has treated numerous ind...   \n",
       "393422     44  She received her Ph.D. in Counseling Psycholog...   \n",
       "\n",
       "                                    hard_text_untokenized  \\\n",
       "0       Dr. Holman graduated from Drexel University Co...   \n",
       "1       His research interests focus primarily on the ...   \n",
       "2       She has worked for various newspapers and maga...   \n",
       "3       His research encompasses a wide range of susta...   \n",
       "4       He completed a residency at McLaren Regional M...   \n",
       "...                                                   ...   \n",
       "393418  Joe is the Founder and Director of the Relatio...   \n",
       "393419  She graduated from Hawaii Pacific University w...   \n",
       "393420  She has taught a wide range of management rela...   \n",
       "393421  Over the decades, he has treated numerous indi...   \n",
       "393422  She received her Ph.D. in Counseling Psycholog...   \n",
       "\n",
       "                                      text_without_gender  \\\n",
       "0       Dr. _ graduated from Drexel University College...   \n",
       "1       _ research interests focus primarily on the in...   \n",
       "2       _ has worked for various newspapers and magazi...   \n",
       "3       _ research encompasses a wide range of sustain...   \n",
       "4       _ completed a residency at McLaren Regional Me...   \n",
       "...                                                   ...   \n",
       "393418  _ is the Founder and Director of the Relations...   \n",
       "393419  _ graduated from Hawaii Pacific University wit...   \n",
       "393420  _ has taught a wide range of management relate...   \n",
       "393421  Over the decades, _ has treated numerous indiv...   \n",
       "393422  _ received _ Ph.D. in Counseling Psychology fr...   \n",
       "\n",
       "                                              bert_avg_SE  \\\n",
       "0       [0.035273608, -0.17930578, 0.5570778, -0.01802...   \n",
       "1       [-0.039646935, -0.059016034, 0.383483, -0.0436...   \n",
       "2       [-0.039010823, -0.057761755, 0.38003385, -0.02...   \n",
       "3       [-0.10064371, 0.2310131, 0.12148693, -0.158708...   \n",
       "4       [-0.20923162, 0.40039727, 0.1665514, -0.251581...   \n",
       "...                                                   ...   \n",
       "393418  [-0.14889559, -0.035120655, 0.4101979, -0.0067...   \n",
       "393419  [-0.1313308, -0.06082485, 0.28147125, -0.07479...   \n",
       "393420  [-0.016473815, 0.17649534, 0.40024486, -0.1965...   \n",
       "393421  [0.13210256, -0.12660283, 0.5385441, -0.037862...   \n",
       "393422  [-0.63301843, 0.037911694, -0.057858523, -0.25...   \n",
       "\n",
       "                                              bert_cls_SE  gender_class  \\\n",
       "0       [-0.719167, 0.2811058, -0.0133525105, 0.584885...             0   \n",
       "1       [-0.71114326, 0.2616684, -0.14193915, 0.569038...             0   \n",
       "2       [-0.9909975, 0.0029073574, -0.19598703, 0.1440...             1   \n",
       "3       [-0.3076348, 0.562288, -0.71838754, -1.0793735...             0   \n",
       "4       [-0.31785777, 0.06298661, -0.43526924, -0.1298...             0   \n",
       "...                                                   ...           ...   \n",
       "393418  [-0.8050291, 0.26285714, -0.3695802, 0.4540420...             0   \n",
       "393419  [-0.44111663, -0.1395795, -0.23112196, 0.16685...             1   \n",
       "393420  [-0.84612274, -0.0444537, -0.23236755, -0.0751...             1   \n",
       "393421  [-0.59496754, 0.33247203, -0.06132424, 0.52261...             0   \n",
       "393422  [-1.1529932, -0.34592614, -0.7528168, -0.04147...             1   \n",
       "\n",
       "        profession_class  \n",
       "0                     25  \n",
       "1                     21  \n",
       "2                     11  \n",
       "3                     21  \n",
       "4                     25  \n",
       "...                  ...  \n",
       "393418                22  \n",
       "393419                26  \n",
       "393420                26  \n",
       "393421                25  \n",
       "393422                22  \n",
       "\n",
       "[393423 rows x 11 columns]"
      ]
     },
     "execution_count": 87,
     "metadata": {},
     "output_type": "execute_result"
    }
   ],
   "source": []
  },
  {
   "cell_type": "code",
   "execution_count": 79,
   "id": "1409e4dd-657a-4fe9-9e91-0bc9ae6bc621",
   "metadata": {},
   "outputs": [],
   "source": []
  },
  {
   "cell_type": "code",
   "execution_count": 17,
   "id": "7fd0de35-a9d1-43a3-8bc8-7a15d14675c1",
   "metadata": {},
   "outputs": [
    {
     "data": {
      "text/html": [
       "<div>\n",
       "<style scoped>\n",
       "    .dataframe tbody tr th:only-of-type {\n",
       "        vertical-align: middle;\n",
       "    }\n",
       "\n",
       "    .dataframe tbody tr th {\n",
       "        vertical-align: top;\n",
       "    }\n",
       "\n",
       "    .dataframe thead th {\n",
       "        text-align: right;\n",
       "    }\n",
       "</style>\n",
       "<table border=\"1\" class=\"dataframe\">\n",
       "  <thead>\n",
       "    <tr style=\"text-align: right;\">\n",
       "      <th></th>\n",
       "      <th>age</th>\n",
       "      <th>workclass</th>\n",
       "      <th>fnlwgt</th>\n",
       "      <th>education</th>\n",
       "      <th>education-num</th>\n",
       "      <th>marital-status</th>\n",
       "      <th>occupation</th>\n",
       "      <th>relationship</th>\n",
       "      <th>race</th>\n",
       "      <th>sex</th>\n",
       "      <th>capital-gain</th>\n",
       "      <th>capital-loss</th>\n",
       "      <th>hours-per-week</th>\n",
       "      <th>native-country</th>\n",
       "      <th>income</th>\n",
       "    </tr>\n",
       "  </thead>\n",
       "  <tbody>\n",
       "    <tr>\n",
       "      <th>0</th>\n",
       "      <td>39</td>\n",
       "      <td>State-gov</td>\n",
       "      <td>77516.0</td>\n",
       "      <td>Bachelors</td>\n",
       "      <td>13.0</td>\n",
       "      <td>Never-married</td>\n",
       "      <td>Adm-clerical</td>\n",
       "      <td>Not-in-family</td>\n",
       "      <td>White</td>\n",
       "      <td>Male</td>\n",
       "      <td>2174.0</td>\n",
       "      <td>0.0</td>\n",
       "      <td>40.0</td>\n",
       "      <td>United-States</td>\n",
       "      <td>&lt;=50K</td>\n",
       "    </tr>\n",
       "    <tr>\n",
       "      <th>1</th>\n",
       "      <td>50</td>\n",
       "      <td>Self-emp-not-inc</td>\n",
       "      <td>83311.0</td>\n",
       "      <td>Bachelors</td>\n",
       "      <td>13.0</td>\n",
       "      <td>Married-civ-spouse</td>\n",
       "      <td>Exec-managerial</td>\n",
       "      <td>Husband</td>\n",
       "      <td>White</td>\n",
       "      <td>Male</td>\n",
       "      <td>0.0</td>\n",
       "      <td>0.0</td>\n",
       "      <td>13.0</td>\n",
       "      <td>United-States</td>\n",
       "      <td>&lt;=50K</td>\n",
       "    </tr>\n",
       "    <tr>\n",
       "      <th>2</th>\n",
       "      <td>38</td>\n",
       "      <td>Private</td>\n",
       "      <td>215646.0</td>\n",
       "      <td>HS-grad</td>\n",
       "      <td>9.0</td>\n",
       "      <td>Divorced</td>\n",
       "      <td>Handlers-cleaners</td>\n",
       "      <td>Not-in-family</td>\n",
       "      <td>White</td>\n",
       "      <td>Male</td>\n",
       "      <td>0.0</td>\n",
       "      <td>0.0</td>\n",
       "      <td>40.0</td>\n",
       "      <td>United-States</td>\n",
       "      <td>&lt;=50K</td>\n",
       "    </tr>\n",
       "    <tr>\n",
       "      <th>3</th>\n",
       "      <td>53</td>\n",
       "      <td>Private</td>\n",
       "      <td>234721.0</td>\n",
       "      <td>11th</td>\n",
       "      <td>7.0</td>\n",
       "      <td>Married-civ-spouse</td>\n",
       "      <td>Handlers-cleaners</td>\n",
       "      <td>Husband</td>\n",
       "      <td>Black</td>\n",
       "      <td>Male</td>\n",
       "      <td>0.0</td>\n",
       "      <td>0.0</td>\n",
       "      <td>40.0</td>\n",
       "      <td>United-States</td>\n",
       "      <td>&lt;=50K</td>\n",
       "    </tr>\n",
       "    <tr>\n",
       "      <th>4</th>\n",
       "      <td>28</td>\n",
       "      <td>Private</td>\n",
       "      <td>338409.0</td>\n",
       "      <td>Bachelors</td>\n",
       "      <td>13.0</td>\n",
       "      <td>Married-civ-spouse</td>\n",
       "      <td>Prof-specialty</td>\n",
       "      <td>Wife</td>\n",
       "      <td>Black</td>\n",
       "      <td>Female</td>\n",
       "      <td>0.0</td>\n",
       "      <td>0.0</td>\n",
       "      <td>40.0</td>\n",
       "      <td>Cuba</td>\n",
       "      <td>&lt;=50K</td>\n",
       "    </tr>\n",
       "    <tr>\n",
       "      <th>...</th>\n",
       "      <td>...</td>\n",
       "      <td>...</td>\n",
       "      <td>...</td>\n",
       "      <td>...</td>\n",
       "      <td>...</td>\n",
       "      <td>...</td>\n",
       "      <td>...</td>\n",
       "      <td>...</td>\n",
       "      <td>...</td>\n",
       "      <td>...</td>\n",
       "      <td>...</td>\n",
       "      <td>...</td>\n",
       "      <td>...</td>\n",
       "      <td>...</td>\n",
       "      <td>...</td>\n",
       "    </tr>\n",
       "    <tr>\n",
       "      <th>48837</th>\n",
       "      <td>33</td>\n",
       "      <td>Private</td>\n",
       "      <td>245211.0</td>\n",
       "      <td>Bachelors</td>\n",
       "      <td>13.0</td>\n",
       "      <td>Never-married</td>\n",
       "      <td>Prof-specialty</td>\n",
       "      <td>Own-child</td>\n",
       "      <td>White</td>\n",
       "      <td>Male</td>\n",
       "      <td>0.0</td>\n",
       "      <td>0.0</td>\n",
       "      <td>40.0</td>\n",
       "      <td>United-States</td>\n",
       "      <td>&lt;=50K.</td>\n",
       "    </tr>\n",
       "    <tr>\n",
       "      <th>48838</th>\n",
       "      <td>39</td>\n",
       "      <td>Private</td>\n",
       "      <td>215419.0</td>\n",
       "      <td>Bachelors</td>\n",
       "      <td>13.0</td>\n",
       "      <td>Divorced</td>\n",
       "      <td>Prof-specialty</td>\n",
       "      <td>Not-in-family</td>\n",
       "      <td>White</td>\n",
       "      <td>Female</td>\n",
       "      <td>0.0</td>\n",
       "      <td>0.0</td>\n",
       "      <td>36.0</td>\n",
       "      <td>United-States</td>\n",
       "      <td>&lt;=50K.</td>\n",
       "    </tr>\n",
       "    <tr>\n",
       "      <th>48839</th>\n",
       "      <td>64</td>\n",
       "      <td>?</td>\n",
       "      <td>321403.0</td>\n",
       "      <td>HS-grad</td>\n",
       "      <td>9.0</td>\n",
       "      <td>Widowed</td>\n",
       "      <td>?</td>\n",
       "      <td>Other-relative</td>\n",
       "      <td>Black</td>\n",
       "      <td>Male</td>\n",
       "      <td>0.0</td>\n",
       "      <td>0.0</td>\n",
       "      <td>40.0</td>\n",
       "      <td>United-States</td>\n",
       "      <td>&lt;=50K.</td>\n",
       "    </tr>\n",
       "    <tr>\n",
       "      <th>48840</th>\n",
       "      <td>38</td>\n",
       "      <td>Private</td>\n",
       "      <td>374983.0</td>\n",
       "      <td>Bachelors</td>\n",
       "      <td>13.0</td>\n",
       "      <td>Married-civ-spouse</td>\n",
       "      <td>Prof-specialty</td>\n",
       "      <td>Husband</td>\n",
       "      <td>White</td>\n",
       "      <td>Male</td>\n",
       "      <td>0.0</td>\n",
       "      <td>0.0</td>\n",
       "      <td>50.0</td>\n",
       "      <td>United-States</td>\n",
       "      <td>&lt;=50K.</td>\n",
       "    </tr>\n",
       "    <tr>\n",
       "      <th>48841</th>\n",
       "      <td>44</td>\n",
       "      <td>Private</td>\n",
       "      <td>83891.0</td>\n",
       "      <td>Bachelors</td>\n",
       "      <td>13.0</td>\n",
       "      <td>Divorced</td>\n",
       "      <td>Adm-clerical</td>\n",
       "      <td>Own-child</td>\n",
       "      <td>Asian-Pac-Islander</td>\n",
       "      <td>Male</td>\n",
       "      <td>5455.0</td>\n",
       "      <td>0.0</td>\n",
       "      <td>40.0</td>\n",
       "      <td>United-States</td>\n",
       "      <td>&lt;=50K.</td>\n",
       "    </tr>\n",
       "  </tbody>\n",
       "</table>\n",
       "<p>48842 rows × 15 columns</p>\n",
       "</div>"
      ],
      "text/plain": [
       "      age         workclass    fnlwgt  education  education-num  \\\n",
       "0      39         State-gov   77516.0  Bachelors           13.0   \n",
       "1      50  Self-emp-not-inc   83311.0  Bachelors           13.0   \n",
       "2      38           Private  215646.0    HS-grad            9.0   \n",
       "3      53           Private  234721.0       11th            7.0   \n",
       "4      28           Private  338409.0  Bachelors           13.0   \n",
       "...    ..               ...       ...        ...            ...   \n",
       "48837  33           Private  245211.0  Bachelors           13.0   \n",
       "48838  39           Private  215419.0  Bachelors           13.0   \n",
       "48839  64                 ?  321403.0    HS-grad            9.0   \n",
       "48840  38           Private  374983.0  Bachelors           13.0   \n",
       "48841  44           Private   83891.0  Bachelors           13.0   \n",
       "\n",
       "           marital-status         occupation    relationship  \\\n",
       "0           Never-married       Adm-clerical   Not-in-family   \n",
       "1      Married-civ-spouse    Exec-managerial         Husband   \n",
       "2                Divorced  Handlers-cleaners   Not-in-family   \n",
       "3      Married-civ-spouse  Handlers-cleaners         Husband   \n",
       "4      Married-civ-spouse     Prof-specialty            Wife   \n",
       "...                   ...                ...             ...   \n",
       "48837       Never-married     Prof-specialty       Own-child   \n",
       "48838            Divorced     Prof-specialty   Not-in-family   \n",
       "48839             Widowed                  ?  Other-relative   \n",
       "48840  Married-civ-spouse     Prof-specialty         Husband   \n",
       "48841            Divorced       Adm-clerical       Own-child   \n",
       "\n",
       "                     race     sex  capital-gain  capital-loss  hours-per-week  \\\n",
       "0                   White    Male        2174.0           0.0            40.0   \n",
       "1                   White    Male           0.0           0.0            13.0   \n",
       "2                   White    Male           0.0           0.0            40.0   \n",
       "3                   Black    Male           0.0           0.0            40.0   \n",
       "4                   Black  Female           0.0           0.0            40.0   \n",
       "...                   ...     ...           ...           ...             ...   \n",
       "48837               White    Male           0.0           0.0            40.0   \n",
       "48838               White  Female           0.0           0.0            36.0   \n",
       "48839               Black    Male           0.0           0.0            40.0   \n",
       "48840               White    Male           0.0           0.0            50.0   \n",
       "48841  Asian-Pac-Islander    Male        5455.0           0.0            40.0   \n",
       "\n",
       "      native-country  income  \n",
       "0      United-States   <=50K  \n",
       "1      United-States   <=50K  \n",
       "2      United-States   <=50K  \n",
       "3      United-States   <=50K  \n",
       "4               Cuba   <=50K  \n",
       "...              ...     ...  \n",
       "48837  United-States  <=50K.  \n",
       "48838  United-States  <=50K.  \n",
       "48839  United-States  <=50K.  \n",
       "48840  United-States  <=50K.  \n",
       "48841  United-States  <=50K.  \n",
       "\n",
       "[48842 rows x 15 columns]"
      ]
     },
     "execution_count": 17,
     "metadata": {},
     "output_type": "execute_result"
    }
   ],
   "source": [
    "adult_pre_df.iloc[:trainrows-1,:]"
   ]
  },
  {
   "cell_type": "code",
   "execution_count": 18,
   "id": "9f4d5f2b-f672-4c9d-bc91-1b503c14377c",
   "metadata": {},
   "outputs": [
    {
     "data": {
      "text/plain": [
       "0.5166613775029687"
      ]
     },
     "execution_count": 18,
     "metadata": {},
     "output_type": "execute_result"
    }
   ],
   "source": [
    "32561/48842*(1-0.225)"
   ]
  },
  {
   "cell_type": "code",
   "execution_count": 20,
   "id": "cebe6aeb-2efa-4ab6-9280-0b95390c9413",
   "metadata": {},
   "outputs": [
    {
     "data": {
      "text/plain": [
       "sex\n",
       "Male      0.668482\n",
       "Female    0.331518\n",
       "Name: count, dtype: float64"
      ]
     },
     "execution_count": 20,
     "metadata": {},
     "output_type": "execute_result"
    }
   ],
   "source": [
    "adult_pre_df[\"sex\"].value_counts()/48842"
   ]
  },
  {
   "cell_type": "code",
   "execution_count": 21,
   "id": "f0bafba3-038b-41a2-a995-2b631dda910c",
   "metadata": {},
   "outputs": [
    {
     "data": {
      "text/plain": [
       "income\n",
       "<=50K     0.506122\n",
       "<=50K.    0.254596\n",
       ">50K      0.160538\n",
       ">50K.     0.078744\n",
       "Name: count, dtype: float64"
      ]
     },
     "execution_count": 21,
     "metadata": {},
     "output_type": "execute_result"
    }
   ],
   "source": [
    "adult_pre_df.income.value_counts()/48842"
   ]
  },
  {
   "cell_type": "code",
   "execution_count": 23,
   "id": "02aeca99-ecda-4c3d-afb2-998e120ee4ca",
   "metadata": {},
   "outputs": [
    {
     "data": {
      "text/plain": [
       "income\n",
       "0    0.760718\n",
       "1    0.239282\n",
       "Name: count, dtype: float64"
      ]
     },
     "execution_count": 23,
     "metadata": {},
     "output_type": "execute_result"
    }
   ],
   "source": [
    "adultdf.income.value_counts()/48842"
   ]
  },
  {
   "cell_type": "code",
   "execution_count": null,
   "id": "9c4b72ba-f2be-41df-9e21-03f6fc4b1a62",
   "metadata": {},
   "outputs": [],
   "source": [
    "pd.set_option('display.max_rows', 900)\n",
    "for x in adult_pre_df.columns:\n",
    "   # print (adult_pre_df[x].value_counts())\n",
    "   print (x, (adult_pre_df[x]=='?').sum()/adult_pre_df.shape[0]*100)"
   ]
  },
  {
   "cell_type": "code",
   "execution_count": null,
   "id": "9b6f0cb6-ea27-459c-a06c-be0d5408d7c1",
   "metadata": {},
   "outputs": [],
   "source": [
    "list(replace_countries_d.keys())"
   ]
  },
  {
   "cell_type": "code",
   "execution_count": null,
   "id": "8e075a6a-cefe-4909-839f-d1782f559ef2",
   "metadata": {},
   "outputs": [],
   "source": [
    "x[ x[\"native-country\" ] == \"Europe\"]"
   ]
  },
  {
   "cell_type": "code",
   "execution_count": null,
   "id": "07b2e5a1-fafd-4429-94ba-e91bdb0a957e",
   "metadata": {},
   "outputs": [],
   "source": []
  },
  {
   "cell_type": "code",
   "execution_count": null,
   "id": "7d025a0b-16ef-4669-905a-b8754fff200d",
   "metadata": {},
   "outputs": [],
   "source": [
    "x[\"native-country\" ].value_counts()"
   ]
  },
  {
   "cell_type": "code",
   "execution_count": null,
   "id": "2d712d8c-5b16-4ef2-9016-6eab4477a7d7",
   "metadata": {},
   "outputs": [],
   "source": [
    "bffhqdf_test = torch.load(bffhq.data_dir.replace('dev', 'test'))"
   ]
  },
  {
   "cell_type": "code",
   "execution_count": null,
   "id": "2496f9c8-2369-4eaa-94c6-6544483db41b",
   "metadata": {},
   "outputs": [],
   "source": [
    "dataframestats (bffhqdf_test, 'target', 'protected', \"gender\", \"age\")"
   ]
  },
  {
   "cell_type": "code",
   "execution_count": null,
   "id": "f87164a5-e8aa-4ca9-a3f8-8fb9b332700e",
   "metadata": {},
   "outputs": [],
   "source": [
    "bios=DotMap ({'data_dir': f'{globaldata}/bios/dev.pickle' })\n",
    "profsdict={}\n",
    "sum=0\n",
    "print (\"\\\\textbf{Target} & \\\\textbf{N instances} & \\textbf{Percentage of Dataset (\\\\%)}  \\\\\\\\\")\n",
    "for i in pd.read_pickle(bios.data_dir):\n",
    "    if i['p'] not in profsdict:\n",
    "        profsdict[i['p']]=1\n",
    "    else:\n",
    "        profsdict[i['p']]+=1\n",
    "    sum+=1\n",
    "for i in pd.read_pickle(bios.data_dir.replace('dev', 'train')):\n",
    "    if i['p'] not in profsdict:\n",
    "        profsdict[i['p']]=1\n",
    "    else:\n",
    "        profsdict[i['p']]+=1\n",
    "    sum+=1\n",
    "for i in pd.read_pickle(bios.data_dir.replace('dev', 'test')):\n",
    "    if i['p'] not in profsdict:\n",
    "        profsdict[i['p']]=1\n",
    "    else:\n",
    "        profsdict[i['p']]+=1\n",
    "    sum+=1\n",
    "for x in sorted([ (name.replace('_', ' ').title(), n) for (name, n) in profsdict.items()], key=lambda a: a[1], reverse=True):\n",
    "    print (x[0], ' & ', x[1], ' & ', '{:.1f} \\\\\\\\'.format(100.0 * float(x[1])/sum))\n",
    "#bsdf.groupby('profession_class').count()\n",
    "print(\"ALL & \", sum, \" & 100 \\\\\\\\\")"
   ]
  },
  {
   "cell_type": "code",
   "execution_count": null,
   "id": "3c1756c6-49f7-4bac-b655-66dd2bef839c",
   "metadata": {},
   "outputs": [],
   "source": [
    "\n",
    "def dataframestats(df, target_label, protected_label, title_target=\"1\", title_protected=\"1\"):\n",
    "   def translation(name, x):\n",
    "       if x==1:\n",
    "           return name\n",
    "       else:\n",
    "           return f\"Not {name}\"\n",
    "   t_p=partial(translation,    title_protected) \n",
    "   t_t=partial(translation,    title_target) \n",
    "\n",
    "   tmp=df.groupby(target_label)[protected_label].count()\n",
    "   sum = tmp.sum()\n",
    "   print (\"\\\\textbf{Category} & \\\\textbf{Frequency} & \\\\textbf{Percentage}\")\n",
    "   \n",
    "   for x in tmp.index:\n",
    "       print (t_t(x), ' & ', tmp.loc[x], \" & {:.1f}\".format(100.0*tmp.loc[x]/sum))\n",
    "   print (\"\\\\textbf{ALL} & \", sum, \" & 100\")\n",
    "   tmp=df.groupby(protected_label)[target_label].count() \n",
    "   print (\"\\\\textbf{Protected} & \\\\textbf{Frequency} & \\\\textbf{Percentage}\")\n",
    "\n",
    "   \n",
    "   for x in tmp.index:\n",
    "       print (t_p(x), ' & ', tmp.loc[x], \" & {:.1f}\".format(100.0*tmp.loc[x]/sum))\n",
    "   print (\"\\\\textbf{ALL} & \", sum, \" & 100\")\n",
    "   print(\"%Produced by datastats.ipynb dataframestats function\")\n",
    "dataframestats (chsydf, 'target', 'protected', \"Smiling\", \"Young\")\n",
    "dataframestats (chbmdf, 'target', 'protected', \"Blond\", \"Male\")\n",
    "dataframestats (bffhqdf[bffhqdf.target == 1 ], 'target', 'protected', \"Old\", \"Male\")"
   ]
  },
  {
   "cell_type": "code",
   "execution_count": null,
   "id": "e16cab2a-60d4-4a02-91e9-cef5d8a63e23",
   "metadata": {},
   "outputs": [],
   "source": [
    "bffhqdf"
   ]
  },
  {
   "cell_type": "code",
   "execution_count": null,
   "id": "b45f5650-77d3-49f5-a217-0d1663aeb903",
   "metadata": {},
   "outputs": [],
   "source": [
    "bffhqdf"
   ]
  },
  {
   "cell_type": "code",
   "execution_count": null,
   "id": "6fc51e99-ab61-4c33-a606-b5e323e581c6",
   "metadata": {},
   "outputs": [],
   "source": [
    "tmp=chsydf\n",
    "tmp['target']=tmp['target'].astype(\"category\") \n",
    "tmp['target'].describe()\n",
    "tmp['protected'].astype(\"category\").describe()"
   ]
  },
  {
   "cell_type": "code",
   "execution_count": null,
   "id": "880f681f-43ba-4edb-b82e-51ec9f778036",
   "metadata": {},
   "outputs": [],
   "source": [
    "bsdf"
   ]
  },
  {
   "cell_type": "code",
   "execution_count": null,
   "id": "38521ae2-c905-4573-80cd-689f30e7f93d",
   "metadata": {},
   "outputs": [],
   "source": [
    "(chsydf['protected']==1).sum()/30000\n"
   ]
  },
  {
   "cell_type": "code",
   "execution_count": null,
   "id": "791f471c-9688-4cad-882c-33af446414a3",
   "metadata": {},
   "outputs": [],
   "source": [
    "chbmdf.count()"
   ]
  },
  {
   "cell_type": "code",
   "execution_count": null,
   "id": "5a4ebe32-b62a-4fe1-bc70-e15168b8dcf3",
   "metadata": {},
   "outputs": [],
   "source": [
    "(chsydf['target']==1).sum()/30000"
   ]
  },
  {
   "cell_type": "code",
   "execution_count": null,
   "id": "7deb3419-1d51-462b-b330-f35b51919862",
   "metadata": {},
   "outputs": [],
   "source": []
  },
  {
   "cell_type": "code",
   "execution_count": null,
   "id": "c98b35e4-3dfc-4881-a8f5-1f77b1f9915d",
   "metadata": {},
   "outputs": [],
   "source": []
  },
  {
   "cell_type": "code",
   "execution_count": null,
   "id": "9adddee4-12a6-47bb-91f9-d92f10317d80",
   "metadata": {},
   "outputs": [],
   "source": [
    "o = bsdf.hard_text[1]  #WHATT\n"
   ]
  },
  {
   "cell_type": "code",
   "execution_count": null,
   "id": "f2adafbe-b78b-4733-8a8e-178e77b560cf",
   "metadata": {},
   "outputs": [],
   "source": [
    "bsdf['p'][0]"
   ]
  },
  {
   "cell_type": "code",
   "execution_count": null,
   "id": "f8a66653-a20b-4863-b3a8-c111a3c547a6",
   "metadata": {},
   "outputs": [],
   "source": [
    "(chbmdf.target==1).sum()/30000."
   ]
  },
  {
   "cell_type": "code",
   "execution_count": null,
   "id": "c0c9a07c-316f-46ab-9c6d-972ec250cc63",
   "metadata": {},
   "outputs": [],
   "source": [
    "(chbmdf.protected==1).sum()/30000."
   ]
  },
  {
   "cell_type": "code",
   "execution_count": null,
   "id": "b8368db1-30c9-4616-8811-58854ea9fc9b",
   "metadata": {},
   "outputs": [],
   "source": [
    "!pwd"
   ]
  },
  {
   "cell_type": "code",
   "execution_count": null,
   "id": "c850c7f7-eb69-40f1-bb44-d85c2f5d2958",
   "metadata": {},
   "outputs": [],
   "source": [
    "bsdf['hard_text'][1]"
   ]
  },
  {
   "cell_type": "code",
   "execution_count": null,
   "id": "55c9e8f0-4cd3-452a-9976-21e59a60b8e6",
   "metadata": {},
   "outputs": [],
   "source": [
    "import pandas as pd\n",
    "!ls \"{globaldata}/bios\"\n"
   ]
  },
  {
   "cell_type": "code",
   "execution_count": null,
   "id": "dc1dba25-fe8c-4fa2-9940-fdc3b7bf9aa7",
   "metadata": {},
   "outputs": [],
   "source": []
  },
  {
   "cell_type": "code",
   "execution_count": null,
   "id": "cd57e08b-023c-4e17-bef6-3a3034dfe185",
   "metadata": {},
   "outputs": [],
   "source": [
    " for i in bsdf[bsdf['p'] == bsdf['p'].mode()[0]]['bert_avg_SE'][1]: \n",
    "     print (i.shape)"
   ]
  },
  {
   "cell_type": "code",
   "execution_count": null,
   "id": "977394e8-67db-4030-8451-18a0d9591f4f",
   "metadata": {},
   "outputs": [],
   "source": [
    "print(bsdf.groupby('p').count()['g'].rename_axis('profession', inplace=False).to_latex(bold_rows=True))"
   ]
  },
  {
   "cell_type": "code",
   "execution_count": null,
   "id": "2a9ca42f-6331-4857-a740-2980e77639a7",
   "metadata": {},
   "outputs": [],
   "source": [
    "bsdf['g'].mode()[0][\"bert_avg_SE\"][0]"
   ]
  },
  {
   "cell_type": "code",
   "execution_count": null,
   "id": "1a31090d-ef8b-45da-acdd-b13c0c34d193",
   "metadata": {},
   "outputs": [],
   "source": []
  },
  {
   "cell_type": "code",
   "execution_count": null,
   "id": "c3a3b583-71b7-453a-9ba6-a9a23f681f3b",
   "metadata": {},
   "outputs": [],
   "source": [
    "bsdf['text']"
   ]
  },
  {
   "cell_type": "code",
   "execution_count": null,
   "id": "f26fef72-4cd8-4b7d-be40-2eb23aeda8da",
   "metadata": {},
   "outputs": [],
   "source": [
    "211321 /393423"
   ]
  },
  {
   "cell_type": "code",
   "execution_count": null,
   "id": "7a04b95f-9c2b-4180-bd71-4d03e435e00d",
   "metadata": {},
   "outputs": [],
   "source": [
    "len(list(set(list(bsdf['p']))))"
   ]
  },
  {
   "cell_type": "code",
   "execution_count": null,
   "id": "0a9e1991-3ea9-4560-a0c2-29eb74e9fdc6",
   "metadata": {},
   "outputs": [],
   "source": [
    "118110 /393423"
   ]
  },
  {
   "cell_type": "code",
   "execution_count": null,
   "id": "db1d1e8e-18a0-4f65-ad7d-014d427b0ab5",
   "metadata": {},
   "outputs": [],
   "source": [
    "\n",
    "cp=COMPAS.COMPASDataset(args=argscp, split=\"dev\")\n",
    "cp.load_data()\n",
    "print(cp.data_dir)\n",
    "#cptuple=torch.load(cp.data_dir)\n",
    "cpdf=pd.concat([pd.read_pickle(cp.data_dir), pd.read_pickle(cp.data_dir.replace('dev', 'train')), \n",
    "               pd.read_pickle(cp.data_dir.replace('dev', 'test'))])\n",
    "#cpdict={'features' : cptuple[0], 'target': cptuple[1], 'protected': cptuple[2] }\n",
    "#cpdf = pd.DataFrame(cpdict)\n"
   ]
  },
  {
   "cell_type": "code",
   "execution_count": null,
   "id": "3ea8a9b0-d0c6-476c-be7f-df4bf214ade1",
   "metadata": {},
   "outputs": [],
   "source": [
    "data.columns"
   ]
  },
  {
   "cell_type": "code",
   "execution_count": null,
   "id": "98f19a6a-1c2c-43d6-9c1b-0863f2725cff",
   "metadata": {},
   "outputs": [],
   "source": [
    "data = pd.read_pickle(cp.data_dir)"
   ]
  },
  {
   "cell_type": "code",
   "execution_count": null,
   "id": "05f1f8ef-2a5f-4e8d-96c4-0c5f342ecbc3",
   "metadata": {},
   "outputs": [],
   "source": [
    "features={}\n",
    "features['age_cat_1'] = pd.get_dummies(data['age_cat_1'])"
   ]
  },
  {
   "cell_type": "code",
   "execution_count": null,
   "id": "e802d280-3034-49e6-8cf2-2490474e9461",
   "metadata": {},
   "outputs": [],
   "source": [
    "features['race']= pd.get_dummies(data['race'], prefix='race')"
   ]
  },
  {
   "cell_type": "code",
   "execution_count": null,
   "id": "6ca1ec40-bb09-4571-a173-86325351fbe5",
   "metadata": {},
   "outputs": [],
   "source": [
    "pd.concat( [pd.concat( {'1': pd.get_dummies(data['race'], prefix='race')}.values(), axis=1), data], axis=1)"
   ]
  },
  {
   "cell_type": "code",
   "execution_count": null,
   "id": "6a79ae6d-d143-45dc-aaf1-ceabb3cb3220",
   "metadata": {},
   "outputs": [],
   "source": [
    "list(features.values())"
   ]
  },
  {
   "cell_type": "code",
   "execution_count": null,
   "id": "4b555a86-fd88-496c-b0cb-5ca63ebf8260",
   "metadata": {},
   "outputs": [],
   "source": [
    "type(pd.get_dummies(data['race'], prefix='race'))"
   ]
  },
  {
   "cell_type": "code",
   "execution_count": null,
   "id": "c0fe0f19-e0ad-48af-9a3c-3c72ea548ea9",
   "metadata": {},
   "outputs": [],
   "source": [
    "data['age_cat_1'] == data['age_cat_2']"
   ]
  },
  {
   "cell_type": "code",
   "execution_count": null,
   "id": "83d27f68-06f8-428b-b58c-4f756a3db7f2",
   "metadata": {},
   "outputs": [],
   "source": [
    "data['age_cat_1'] "
   ]
  },
  {
   "cell_type": "code",
   "execution_count": null,
   "id": "c291b8eb-6339-40b5-b203-340571e47e9f",
   "metadata": {},
   "outputs": [],
   "source": [
    "data['age_cat_2']"
   ]
  },
  {
   "cell_type": "code",
   "execution_count": null,
   "id": "c6770965-f83e-4655-8fac-bcfac9ad68af",
   "metadata": {},
   "outputs": [],
   "source": [
    "from sklearn.preprocessing import  OneHotEncoder"
   ]
  },
  {
   "cell_type": "code",
   "execution_count": null,
   "id": "ec1c0a0f-4c85-4945-95bb-b1f8227b1640",
   "metadata": {},
   "outputs": [],
   "source": [
    "data.index"
   ]
  },
  {
   "cell_type": "code",
   "execution_count": null,
   "id": "32d7c613-a527-46d5-a61e-11046d8cea5f",
   "metadata": {},
   "outputs": [],
   "source": [
    "cpdf2=pd.read_csv('/home/user/miniconda3/data/compass/compas-scores-two-years.csv')"
   ]
  },
  {
   "cell_type": "code",
   "execution_count": null,
   "id": "6c6ff2b7-2351-4f9b-aaa4-f2b0419853b9",
   "metadata": {},
   "outputs": [],
   "source": [
    "cpdf2.columns\n",
    "cpdf2.drop(['id', 'name', 'first', 'last', 'dob', 'race','compas_screening_date' , 'v_decile_score', 'v_score_text',\n",
    "       'v_screening_date' ], axis='columns').columns"
   ]
  },
  {
   "cell_type": "code",
   "execution_count": null,
   "id": "b3f731f1-7419-482b-bbaf-9da0dad64a5d",
   "metadata": {},
   "outputs": [],
   "source": [
    "cpdf2['v_charge_degree'].unique()"
   ]
  },
  {
   "cell_type": "code",
   "execution_count": null,
   "id": "06ffb39a-cd2c-494b-acae-2e158796b814",
   "metadata": {},
   "outputs": [],
   "source": [
    "cpdf2[ cpdf2['is_recid'] == True ]['r_charge_degree'].isna().sum()"
   ]
  },
  {
   "cell_type": "code",
   "execution_count": null,
   "id": "9b172782-17ea-42f9-aab2-2c0cb98ac8ce",
   "metadata": {},
   "outputs": [],
   "source": [
    "cpdf2['age_cat']"
   ]
  },
  {
   "cell_type": "code",
   "execution_count": null,
   "id": "3b16f9c1-ae41-4cfa-808e-f602900ce712",
   "metadata": {},
   "outputs": [],
   "source": [
    "cpdf2[ cpdf2['priors_count'] != cpdf2[ 'priors_count.1']] \n"
   ]
  },
  {
   "cell_type": "code",
   "execution_count": null,
   "id": "9ff487c2-cd7a-474a-8ce7-f917aa3dfbc5",
   "metadata": {},
   "outputs": [],
   "source": [
    "cpdf2[ 'r_charge_desc']"
   ]
  },
  {
   "cell_type": "code",
   "execution_count": null,
   "id": "c27144b1-55cb-47e5-a952-b680f5905529",
   "metadata": {},
   "outputs": [],
   "source": [
    "cpdf2[cpdf2.race == \"African-American\"]"
   ]
  },
  {
   "cell_type": "code",
   "execution_count": null,
   "id": "f5c9a2a8-68ec-4cbc-848c-8fc6af37032b",
   "metadata": {},
   "outputs": [],
   "source": [
    "cpdf2[(cpdf2['race'] != \"Caucasian\" ) & (cpdf2['race'] != \"African-American\" )  ]"
   ]
  },
  {
   "cell_type": "code",
   "execution_count": null,
   "id": "90bac12d-5770-42f5-bcc7-839df352c037",
   "metadata": {
    "scrolled": true
   },
   "outputs": [],
   "source": [
    "cpdf2[cpdf2['race'] == \"Caucasian\" ]\n",
    "#cpdf.loc[6]"
   ]
  },
  {
   "cell_type": "code",
   "execution_count": null,
   "id": "dc093bcc-ccda-46f7-85cc-dadf1ef4eb5d",
   "metadata": {},
   "outputs": [],
   "source": [
    "cpdf2[cpdf2['is_recid'] == 0 ]"
   ]
  },
  {
   "cell_type": "code",
   "execution_count": null,
   "id": "106e1567-5b4b-4f91-9648-660ca315b6cb",
   "metadata": {},
   "outputs": [],
   "source": [
    "cpdf2[cpdf2['is_recid'] == 1]"
   ]
  },
  {
   "cell_type": "code",
   "execution_count": null,
   "id": "88565678-2450-4ea3-b52f-33d40f1f8cee",
   "metadata": {},
   "outputs": [],
   "source": [
    "sum(cpdf.sex ==0)"
   ]
  },
  {
   "cell_type": "raw",
   "id": "6bbef370-2a2a-4fd9-833e-43c0799e5377",
   "metadata": {},
   "source": [
    "#### (2454+3743) /7241"
   ]
  },
  {
   "cell_type": "code",
   "execution_count": null,
   "id": "103b4022-2b2e-49ff-8cc1-890874a6d579",
   "metadata": {},
   "outputs": [],
   "source": [
    "3743 /7214"
   ]
  },
  {
   "cell_type": "code",
   "execution_count": null,
   "id": "ff823ce9-04da-4797-86c3-ffaaefd27932",
   "metadata": {},
   "outputs": [],
   "source": [
    "#print(cpdf2.loc[7213])\n",
    "cpdf2.loc[0].days_b_screening_arrest"
   ]
  },
  {
   "cell_type": "code",
   "execution_count": null,
   "id": "60ef56c3-a0cf-44fc-a5f1-f8d5c7972246",
   "metadata": {},
   "outputs": [],
   "source": [
    "cpdf.loc[16]"
   ]
  },
  {
   "cell_type": "code",
   "execution_count": null,
   "id": "e8f6cab0-7590-46e0-931b-3df8d12f8fd1",
   "metadata": {},
   "outputs": [],
   "source": [
    "cpdf2[cpdf2.days_b_screening_arrest>0].race"
   ]
  },
  {
   "cell_type": "code",
   "execution_count": null,
   "id": "6c1f7c24-9073-4742-8621-dc18a4d3fbc3",
   "metadata": {},
   "outputs": [],
   "source": [
    "cpdf2.columns"
   ]
  },
  {
   "cell_type": "code",
   "execution_count": null,
   "id": "ccead818-eed9-4411-8dfd-6c1f8fdb3acb",
   "metadata": {},
   "outputs": [],
   "source": [
    "for i in cpdf.loc[59].keys():\n",
    "    print (i)"
   ]
  },
  {
   "cell_type": "code",
   "execution_count": null,
   "id": "ae6609d8-151d-425d-ac94-832e3a4d3842",
   "metadata": {},
   "outputs": [],
   "source": [
    "cpdf[cpdf.race==0]\n",
    "#cpdf.count\n",
    "\n",
    "# 'age_cat': ['Less than 25', '25 - 45', 'Greater than 45'], 'sex': ['Male', 'Female'], 'race': ['Black', 'White', 'Other'], '"
   ]
  },
  {
   "cell_type": "code",
   "execution_count": null,
   "id": "0d7c3f7d-3ec8-433c-8af7-c8a299a8a309",
   "metadata": {},
   "outputs": [],
   "source": [
    "vocab_dict={'a': ['z','y','x'],'b': ['2','3','1']}"
   ]
  },
  {
   "cell_type": "code",
   "execution_count": null,
   "id": "d7b08826-1f69-4334-8e09-80682ae20b79",
   "metadata": {},
   "outputs": [],
   "source": [
    "tmp_df = pd.DataFrame({'a':['x', 'x', 'y', 'z' ], 'b' : ['1','3','2','2']})"
   ]
  },
  {
   "cell_type": "code",
   "execution_count": null,
   "id": "1ce8c043-b625-44bd-826b-29a2fe5f3bed",
   "metadata": {},
   "outputs": [],
   "source": [
    "features = {}\n",
    "for col_name in vocab_dict.keys():\n",
    "        features[col_name] = tmp_df[col_name].map(\n",
    "            {\n",
    "                j:i for i,j in enumerate(vocab_dict[col_name])\n",
    "            }\n",
    "        )"
   ]
  },
  {
   "cell_type": "code",
   "execution_count": null,
   "id": "6a5082ba-a15e-40a9-ba66-ddf5aa645e19",
   "metadata": {},
   "outputs": [],
   "source": [
    "features"
   ]
  },
  {
   "cell_type": "code",
   "execution_count": null,
   "id": "70d47fce-a941-421f-bdee-afd5d015fd7a",
   "metadata": {},
   "outputs": [],
   "source": [
    "argsb=DotMap(yaml.safe_load(Path('/home/user/fairlibcode/example_conf_file/bffhq_vanilla.yaml').read_text()))"
   ]
  },
  {
   "cell_type": "code",
   "execution_count": null,
   "id": "bddab734-132f-4294-a989-2b40796e0443",
   "metadata": {},
   "outputs": [],
   "source": [
    "b=bffhq.bffhqDataset(args=argsb, split=\"train\")\n",
    "b.load_data()\n",
    "btuple=torch.load(b.data_file)\n",
    "\n",
    "bdict={'IMG' : btuple[0], 'target': btuple[1], 'protected': btuple[2] }\n",
    "bdf = pd.DataFrame(bdict)\n"
   ]
  },
  {
   "cell_type": "code",
   "execution_count": null,
   "id": "ec471b58-9097-4f3b-874d-1fc0f5dd7bdd",
   "metadata": {},
   "outputs": [],
   "source": [
    "bdf["
   ]
  },
  {
   "cell_type": "code",
   "execution_count": null,
   "id": "49ae0b23-9ab2-499a-9b24-22159139399b",
   "metadata": {},
   "outputs": [],
   "source": [
    "df[ (df.target == 1) & ( df.protected == 1)].count()"
   ]
  },
  {
   "cell_type": "code",
   "execution_count": null,
   "id": "3854c1eb-4e8f-4223-837e-b09cc165dbe7",
   "metadata": {},
   "outputs": [],
   "source": [
    "df[ (df.target == 1) & ( df.protected == 0)].count()"
   ]
  },
  {
   "cell_type": "code",
   "execution_count": null,
   "id": "fa1334e0-fce9-4b86-854a-c9ddcc8d449d",
   "metadata": {},
   "outputs": [],
   "source": [
    "df[ (df.target == 0) & ( df.protected == 0)].count()"
   ]
  },
  {
   "cell_type": "code",
   "execution_count": null,
   "id": "46f05998-68c3-4143-a234-fb89c83c7326",
   "metadata": {},
   "outputs": [],
   "source": [
    "df[ (df.target == 0) & ( df.protected == 1)].count()"
   ]
  },
  {
   "cell_type": "code",
   "execution_count": null,
   "id": "3ea84135-7c82-4113-9191-a87b531a4d23",
   "metadata": {},
   "outputs": [],
   "source": [
    "torch.load('/home/user/miniconda3/data')"
   ]
  },
  {
   "cell_type": "code",
   "execution_count": null,
   "id": "92bcec2d-3021-46ca-b460-248fa0bf7706",
   "metadata": {},
   "outputs": [],
   "source": [
    "fldl.default_dataset_roots"
   ]
  },
  {
   "cell_type": "code",
   "execution_count": null,
   "id": "0f84bc35-1b3b-4472-b129-d87d93c25724",
   "metadata": {},
   "outputs": [],
   "source": []
  },
  {
   "cell_type": "code",
   "execution_count": null,
   "id": "b371e04e-1f39-487e-90a0-84b08addb31b",
   "metadata": {},
   "outputs": [],
   "source": [
    "import torch"
   ]
  },
  {
   "cell_type": "code",
   "execution_count": null,
   "id": "85d2f7e7-2fb2-4042-88aa-fe0c00e53161",
   "metadata": {},
   "outputs": [],
   "source": [
    " data = torch.load(\"/home/user/miniconda3/data/coco/train.data\")"
   ]
  },
  {
   "cell_type": "code",
   "execution_count": null,
   "id": "60f0fb4d-fb04-4dd0-93a6-ea61da1b5cd1",
   "metadata": {},
   "outputs": [],
   "source": [
    " data = torch.load(\"/home/user/miniconda3/data/coloredmnist/colored_MNIST_train.pt\")"
   ]
  },
  {
   "cell_type": "code",
   "execution_count": null,
   "id": "1bbe99c1-8db4-4470-89f8-7cad37a0ada4",
   "metadata": {},
   "outputs": [],
   "source": [
    "data"
   ]
  }
 ],
 "metadata": {
  "kernelspec": {
   "display_name": "pristine",
   "language": "python",
   "name": "pistine"
  },
  "language_info": {
   "codemirror_mode": {
    "name": "ipython",
    "version": 3
   },
   "file_extension": ".py",
   "mimetype": "text/x-python",
   "name": "python",
   "nbconvert_exporter": "python",
   "pygments_lexer": "ipython3",
   "version": "3.8.18"
  }
 },
 "nbformat": 4,
 "nbformat_minor": 5
}
