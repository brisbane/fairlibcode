{
 "cells": [
  {
   "cell_type": "code",
   "execution_count": 5,
   "id": "a617ae38-db36-4b9e-9018-e6c4496b7073",
   "metadata": {},
   "outputs": [
    {
     "name": "stdout",
     "output_type": "stream",
     "text": [
      "# conda environments:\n",
      "#\n",
      "base                     /home/user/miniconda3\n",
      "bffhq                    /home/user/miniconda3/envs/bffhq\n",
      "fairlib                  /home/user/miniconda3/envs/fairlib\n",
      "jupyterlab            *  /home/user/miniconda3/envs/jupyterlab\n",
      "newone                   /home/user/miniconda3/envs/newone\n",
      "pristine                 /home/user/miniconda3/envs/pristine\n",
      "pristine2                /home/user/miniconda3/envs/pristine2\n",
      "pristine3                /home/user/miniconda3/envs/pristine3\n",
      "                         /home/user/miniconda3/envs/testkernel/envs/jupyterintegration\n",
      "\n"
     ]
    }
   ],
   "source": [
    "import scipy.stats\n",
    "!conda  env list"
   ]
  },
  {
   "cell_type": "code",
   "execution_count": 38,
   "id": "bbce6cb7-2161-4534-99ae-4906191ee939",
   "metadata": {},
   "outputs": [
    {
     "name": "stdout",
     "output_type": "stream",
     "text": [
      " & 0.152 & 0.16 & 0.149 & 0.154\n",
      " & 0.461 & 0.435 & 0.432 & 0.456\n",
      " & 0.256 & 0.222 & 0.226 & 0.247\n",
      " & 0.164 & 0.141 & 0.133 & 0.172\n",
      " & 0.34 & 0.42 & 0.384 & 0.414\n"
     ]
    },
    {
     "data": {
      "text/plain": [
       "0.05033109785985302"
      ]
     },
     "execution_count": 38,
     "metadata": {},
     "output_type": "execute_result"
    }
   ],
   "source": [
    "#### scipy.stats.friedmanchisquare\n",
    "baseline=[ 0.152 , 0.461 , 0.256 , 0.164, 0.34 ]\n",
    "BT = [    0.160 , 0.435,   0.222,  0.141,  0.42 ]\n",
    "ADV = [  0.149, 0.432,  0.226, 0.133, 0.384 ]\n",
    "INLP = [0.154 ,  0.456, 0.247,  0.172,   0.414] \n",
    "#Moji\n",
    "baseline.append(0.477)\n",
    "BT.append(0.275)\n",
    "ADV.append(0.263)\n",
    "INLP.append(30.3)\n",
    "\n",
    "res = scipy.stats.friedmanchisquare(ADV,  INLP, BT, baseline )\n",
    "for i in [0,1,2,3,4]:\n",
    "    print (r\" & {0} & {1} & {2} & {3}\".format (baseline[i], BT[i],  ADV[i], INLP[i]) )\n",
    "res.statistic\n",
    "res.pvalue"
   ]
  },
  {
   "cell_type": "code",
   "execution_count": 47,
   "id": "468ecb89-afb3-4f89-ad12-c5b69eec37c7",
   "metadata": {},
   "outputs": [],
   "source": [
    "import scikit_posthocs, numpy as np"
   ]
  },
  {
   "cell_type": "code",
   "execution_count": 50,
   "id": "8c96755e-9729-4db4-9767-90ba186858c9",
   "metadata": {},
   "outputs": [],
   "source": [
    "data  =np.array([baseline, BT, ADV, INLP])"
   ]
  },
  {
   "cell_type": "code",
   "execution_count": 63,
   "id": "1ae79358-25d9-45ac-9fa2-fa11e9892907",
   "metadata": {},
   "outputs": [
    {
     "data": {
      "text/html": [
       "<div>\n",
       "<style scoped>\n",
       "    .dataframe tbody tr th:only-of-type {\n",
       "        vertical-align: middle;\n",
       "    }\n",
       "\n",
       "    .dataframe tbody tr th {\n",
       "        vertical-align: top;\n",
       "    }\n",
       "\n",
       "    .dataframe thead th {\n",
       "        text-align: right;\n",
       "    }\n",
       "</style>\n",
       "<table border=\"1\" class=\"dataframe\">\n",
       "  <thead>\n",
       "    <tr style=\"text-align: right;\">\n",
       "      <th></th>\n",
       "      <th>1</th>\n",
       "      <th>2</th>\n",
       "      <th>3</th>\n",
       "      <th>4</th>\n",
       "    </tr>\n",
       "  </thead>\n",
       "  <tbody>\n",
       "    <tr>\n",
       "      <th>1</th>\n",
       "      <td>1.0000</td>\n",
       "      <td>0.43750</td>\n",
       "      <td>0.31250</td>\n",
       "      <td>0.43750</td>\n",
       "    </tr>\n",
       "    <tr>\n",
       "      <th>2</th>\n",
       "      <td>0.4375</td>\n",
       "      <td>1.00000</td>\n",
       "      <td>0.09375</td>\n",
       "      <td>0.15625</td>\n",
       "    </tr>\n",
       "    <tr>\n",
       "      <th>3</th>\n",
       "      <td>0.3125</td>\n",
       "      <td>0.09375</td>\n",
       "      <td>1.00000</td>\n",
       "      <td>0.03125</td>\n",
       "    </tr>\n",
       "    <tr>\n",
       "      <th>4</th>\n",
       "      <td>0.4375</td>\n",
       "      <td>0.15625</td>\n",
       "      <td>0.03125</td>\n",
       "      <td>1.00000</td>\n",
       "    </tr>\n",
       "  </tbody>\n",
       "</table>\n",
       "</div>"
      ],
      "text/plain": [
       "        1        2        3        4\n",
       "1  1.0000  0.43750  0.31250  0.43750\n",
       "2  0.4375  1.00000  0.09375  0.15625\n",
       "3  0.3125  0.09375  1.00000  0.03125\n",
       "4  0.4375  0.15625  0.03125  1.00000"
      ]
     },
     "execution_count": 63,
     "metadata": {},
     "output_type": "execute_result"
    }
   ],
   "source": [
    "scikit_posthocs.posthoc_wilcoxon(np.array([baseline, BT, ADV, INLP]))"
   ]
  },
  {
   "cell_type": "code",
   "execution_count": 68,
   "id": "604e97f7-fcba-4913-9d05-85b9c5b8ffe3",
   "metadata": {},
   "outputs": [
    {
     "data": {
      "text/plain": [
       "FriedmanchisquareResult(statistic=17.714285714285708, pvalue=0.0033266448292871872)"
      ]
     },
     "execution_count": 68,
     "metadata": {},
     "output_type": "execute_result"
    }
   ],
   "source": [
    "import scipy.stats as ss\n",
    "ss.friedmanchisquare(*data.T)"
   ]
  },
  {
   "cell_type": "code",
   "execution_count": 61,
   "id": "43936c54-905a-45e2-85f0-5a993615e161",
   "metadata": {},
   "outputs": [
    {
     "data": {
      "text/plain": [
       "array([[ 0.152,  0.461,  0.256,  0.164,  0.34 ,  0.477],\n",
       "       [ 0.16 ,  0.435,  0.222,  0.141,  0.42 ,  0.275],\n",
       "       [ 0.149,  0.432,  0.226,  0.133,  0.384,  0.263],\n",
       "       [ 0.154,  0.456,  0.247,  0.172,  0.414, 30.3  ]])"
      ]
     },
     "execution_count": 61,
     "metadata": {},
     "output_type": "execute_result"
    }
   ],
   "source": [
    "np.array([baseline, BT, ADV, INLP])"
   ]
  },
  {
   "cell_type": "code",
   "execution_count": 66,
   "id": "56879cfc-d066-472c-ae65-1eb0d3154ddd",
   "metadata": {},
   "outputs": [
    {
     "ename": "SyntaxError",
     "evalue": "cannot use starred expression here (2845580814.py, line 1)",
     "output_type": "error",
     "traceback": [
      "\u001b[0;36m  Cell \u001b[0;32mIn[66], line 1\u001b[0;36m\u001b[0m\n\u001b[0;31m    (*data.T)\u001b[0m\n\u001b[0m     ^\u001b[0m\n\u001b[0;31mSyntaxError\u001b[0m\u001b[0;31m:\u001b[0m cannot use starred expression here\n"
     ]
    }
   ],
   "source": [
    "(*data.T)"
   ]
  }
 ],
 "metadata": {
  "kernelspec": {
   "display_name": "Python 3 (ipykernel)",
   "language": "python",
   "name": "python3"
  },
  "language_info": {
   "codemirror_mode": {
    "name": "ipython",
    "version": 3
   },
   "file_extension": ".py",
   "mimetype": "text/x-python",
   "name": "python",
   "nbconvert_exporter": "python",
   "pygments_lexer": "ipython3",
   "version": "3.12.2"
  }
 },
 "nbformat": 4,
 "nbformat_minor": 5
}
